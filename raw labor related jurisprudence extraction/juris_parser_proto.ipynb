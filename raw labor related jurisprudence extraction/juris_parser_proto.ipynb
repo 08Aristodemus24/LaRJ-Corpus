{
 "cells": [
  {
   "cell_type": "code",
   "execution_count": 11,
   "metadata": {},
   "outputs": [
    {
     "name": "stdout",
     "output_type": "stream",
     "text": [
      "                  identifier       year  \\\n",
      "0   1259024318844998577.html  1901-1920   \n",
      "1   1259025995477516486.html  1901-1920   \n",
      "2  12590286321646095756.html  1901-1920   \n",
      "3   1259030844961946103.html  1901-1920   \n",
      "4  12590448821684625643.html  1901-1920   \n",
      "\n",
      "                                           file_path  \n",
      "0  d:\\Projects\\To Github\\LaRJ-Corpus\\raw jurispru...  \n",
      "1  d:\\Projects\\To Github\\LaRJ-Corpus\\raw jurispru...  \n",
      "2  d:\\Projects\\To Github\\LaRJ-Corpus\\raw jurispru...  \n",
      "3  d:\\Projects\\To Github\\LaRJ-Corpus\\raw jurispru...  \n",
      "4  d:\\Projects\\To Github\\LaRJ-Corpus\\raw jurispru...  \n"
     ]
    }
   ],
   "source": [
    "import os\n",
    "import re\n",
    "from bs4 import BeautifulSoup\n",
    "import pandas as pd\n",
    "\n",
    "def list_files(path) -> pd.DataFrame: \n",
    "    dirs = os.listdir(f'{path}/juris')\n",
    "\n",
    "    file_paths = []\n",
    "    years = []\n",
    "    ids = []\n",
    "    for dir in dirs:\n",
    "        files = os.listdir(f'{path}/juris/{dir}')\n",
    "        for file in files:\n",
    "            # append current year which is the current dir name\n",
    "            years.append(dir)\n",
    "\n",
    "            # append identifier of file\n",
    "            ids.append(file)\n",
    "\n",
    "            # build and append file name\n",
    "            file_paths.append(f'{path}/juris/{dir}/{file}')\n",
    "\n",
    "    return pd.DataFrame({'identifier': ids, 'year': years, 'file_path': file_paths})\n",
    "\n",
    "# get the header\n",
    "\n",
    "def match_keywords():\n",
    "    jargon__df = pd.read_csv('./jargon.csv', index_col=0)\n",
    "    print(jargon__df)\n",
    "\n",
    "\n",
    "\n",
    "\n",
    "juris__df = list_files(os.getcwd())\n",
    "print(juris__df.head())\n"
   ]
  },
  {
   "cell_type": "code",
   "execution_count": 12,
   "metadata": {},
   "outputs": [
    {
     "data": {
      "text/html": [
       "<div>\n",
       "<style scoped>\n",
       "    .dataframe tbody tr th:only-of-type {\n",
       "        vertical-align: middle;\n",
       "    }\n",
       "\n",
       "    .dataframe tbody tr th {\n",
       "        vertical-align: top;\n",
       "    }\n",
       "\n",
       "    .dataframe thead th {\n",
       "        text-align: right;\n",
       "    }\n",
       "</style>\n",
       "<table border=\"1\" class=\"dataframe\">\n",
       "  <thead>\n",
       "    <tr style=\"text-align: right;\">\n",
       "      <th></th>\n",
       "      <th>identifier</th>\n",
       "      <th>year</th>\n",
       "      <th>file_path</th>\n",
       "    </tr>\n",
       "  </thead>\n",
       "  <tbody>\n",
       "    <tr>\n",
       "      <th>0</th>\n",
       "      <td>1259024318844998577.html</td>\n",
       "      <td>1901-1920</td>\n",
       "      <td>d:\\Projects\\To Github\\LaRJ-Corpus\\raw jurispru...</td>\n",
       "    </tr>\n",
       "    <tr>\n",
       "      <th>1</th>\n",
       "      <td>1259025995477516486.html</td>\n",
       "      <td>1901-1920</td>\n",
       "      <td>d:\\Projects\\To Github\\LaRJ-Corpus\\raw jurispru...</td>\n",
       "    </tr>\n",
       "    <tr>\n",
       "      <th>2</th>\n",
       "      <td>12590286321646095756.html</td>\n",
       "      <td>1901-1920</td>\n",
       "      <td>d:\\Projects\\To Github\\LaRJ-Corpus\\raw jurispru...</td>\n",
       "    </tr>\n",
       "    <tr>\n",
       "      <th>3</th>\n",
       "      <td>1259030844961946103.html</td>\n",
       "      <td>1901-1920</td>\n",
       "      <td>d:\\Projects\\To Github\\LaRJ-Corpus\\raw jurispru...</td>\n",
       "    </tr>\n",
       "    <tr>\n",
       "      <th>4</th>\n",
       "      <td>12590448821684625643.html</td>\n",
       "      <td>1901-1920</td>\n",
       "      <td>d:\\Projects\\To Github\\LaRJ-Corpus\\raw jurispru...</td>\n",
       "    </tr>\n",
       "  </tbody>\n",
       "</table>\n",
       "</div>"
      ],
      "text/plain": [
       "                  identifier       year  \\\n",
       "0   1259024318844998577.html  1901-1920   \n",
       "1   1259025995477516486.html  1901-1920   \n",
       "2  12590286321646095756.html  1901-1920   \n",
       "3   1259030844961946103.html  1901-1920   \n",
       "4  12590448821684625643.html  1901-1920   \n",
       "\n",
       "                                           file_path  \n",
       "0  d:\\Projects\\To Github\\LaRJ-Corpus\\raw jurispru...  \n",
       "1  d:\\Projects\\To Github\\LaRJ-Corpus\\raw jurispru...  \n",
       "2  d:\\Projects\\To Github\\LaRJ-Corpus\\raw jurispru...  \n",
       "3  d:\\Projects\\To Github\\LaRJ-Corpus\\raw jurispru...  \n",
       "4  d:\\Projects\\To Github\\LaRJ-Corpus\\raw jurispru...  "
      ]
     },
     "execution_count": 12,
     "metadata": {},
     "output_type": "execute_result"
    }
   ],
   "source": [
    "juris__df.head()"
   ]
  },
  {
   "cell_type": "code",
   "execution_count": 13,
   "metadata": {},
   "outputs": [
    {
     "data": {
      "text/html": [
       "<div>\n",
       "<style scoped>\n",
       "    .dataframe tbody tr th:only-of-type {\n",
       "        vertical-align: middle;\n",
       "    }\n",
       "\n",
       "    .dataframe tbody tr th {\n",
       "        vertical-align: top;\n",
       "    }\n",
       "\n",
       "    .dataframe thead th {\n",
       "        text-align: right;\n",
       "    }\n",
       "</style>\n",
       "<table border=\"1\" class=\"dataframe\">\n",
       "  <thead>\n",
       "    <tr style=\"text-align: right;\">\n",
       "      <th></th>\n",
       "      <th>identifier</th>\n",
       "      <th>year</th>\n",
       "      <th>file_path</th>\n",
       "    </tr>\n",
       "  </thead>\n",
       "  <tbody>\n",
       "    <tr>\n",
       "      <th>66590</th>\n",
       "      <td>1615183088809149243.html</td>\n",
       "      <td>2021</td>\n",
       "      <td>d:\\Projects\\To Github\\LaRJ-Corpus\\raw jurispru...</td>\n",
       "    </tr>\n",
       "    <tr>\n",
       "      <th>66591</th>\n",
       "      <td>1615268588459747150.html</td>\n",
       "      <td>2021</td>\n",
       "      <td>d:\\Projects\\To Github\\LaRJ-Corpus\\raw jurispru...</td>\n",
       "    </tr>\n",
       "    <tr>\n",
       "      <th>66592</th>\n",
       "      <td>161594165740000218.html</td>\n",
       "      <td>2021</td>\n",
       "      <td>d:\\Projects\\To Github\\LaRJ-Corpus\\raw jurispru...</td>\n",
       "    </tr>\n",
       "    <tr>\n",
       "      <th>66593</th>\n",
       "      <td>1615953315892765798.html</td>\n",
       "      <td>2021</td>\n",
       "      <td>d:\\Projects\\To Github\\LaRJ-Corpus\\raw jurispru...</td>\n",
       "    </tr>\n",
       "    <tr>\n",
       "      <th>66594</th>\n",
       "      <td>16159550661388784210.html</td>\n",
       "      <td>2021</td>\n",
       "      <td>d:\\Projects\\To Github\\LaRJ-Corpus\\raw jurispru...</td>\n",
       "    </tr>\n",
       "  </tbody>\n",
       "</table>\n",
       "</div>"
      ],
      "text/plain": [
       "                      identifier  year  \\\n",
       "66590   1615183088809149243.html  2021   \n",
       "66591   1615268588459747150.html  2021   \n",
       "66592    161594165740000218.html  2021   \n",
       "66593   1615953315892765798.html  2021   \n",
       "66594  16159550661388784210.html  2021   \n",
       "\n",
       "                                               file_path  \n",
       "66590  d:\\Projects\\To Github\\LaRJ-Corpus\\raw jurispru...  \n",
       "66591  d:\\Projects\\To Github\\LaRJ-Corpus\\raw jurispru...  \n",
       "66592  d:\\Projects\\To Github\\LaRJ-Corpus\\raw jurispru...  \n",
       "66593  d:\\Projects\\To Github\\LaRJ-Corpus\\raw jurispru...  \n",
       "66594  d:\\Projects\\To Github\\LaRJ-Corpus\\raw jurispru...  "
      ]
     },
     "execution_count": 13,
     "metadata": {},
     "output_type": "execute_result"
    }
   ],
   "source": [
    "juris__df.tail()"
   ]
  },
  {
   "attachments": {},
   "cell_type": "markdown",
   "metadata": {},
   "source": [
    "# extract the words out of the html file"
   ]
  },
  {
   "cell_type": "code",
   "execution_count": 14,
   "metadata": {},
   "outputs": [
    {
     "name": "stdout",
     "output_type": "stream",
     "text": [
      "\n",
      "\n",
      "\n",
      "G.R. No. 204152, January 19, 2021\n",
      "\n",
      "\n",
      "\n",
      "\n",
      "EN BANC\n",
      "\n",
      "\t\t\t\tG.R. No. 204152, January 19, 2021\n",
      "DENR EMPLOYEES UNION (DENREU) AND KALIPUNAN NG MGA KAWANI SA KAGAWARAN NG KALIKASAN (K4), PETITIONERS, VS. SECRETARY FLORENCIO B. ABAD OF THE DEPARTMENT OF BUDGET AND MANAGEMENT AND THE COMMISSION ON AUDIT, RESPONDENTS.D E C I S I O N\n",
      "\n",
      "PERALTA, C.J.:\n",
      "Petitioners Department of Environment and Natural Resources (DENR) Employees Union (DENREU) and Kalipunan ng mga Kawani sa Kagawarang Kalikasan (K4) filed the present Petition for Injunction and Prohibition under Rule 65 of the Rules of Court assailing the constitutionality of Budget Circular No. 2011-5 dated December 26, 2011 of the Department of Budget and Management (DBM). The circular placed a P25,000.00 ceiling on the amount of the Collective Negotiation Agreement (CNA) Incentive for 2011. In compliance therewith, respondent Commission on Audit (COA) disallowed the DENR's issuance of CNA Incentives to its officers and employees for exceeding said limit.The antecedent facts are as follows.On June 1, 1987, then President Corazon C. Aquino enacted Executive Order (EO) No. 180 which provided for guidelines on the exercise of government employees' right to organize and created a Public Sector Labor-Management Council (PSLMC) tasked to implement and administer the provisions thereof.Pursuant thereto, the PSLMC issued Resolution No. 4, series of 2002 on November 14, 2002, allowing the grant of the CNA incentive to National Government Agencies (NGAs), State Universities and Colleges (SUCs), and Local Government Units (LGUs) in recognition of the joint efforts of labor and management to achieve all planned targets which shall be taken from savings generated after the signing of the CNA that are no longer intended for specific purposes.Thereafter, on May 19, 2003, the PSLMC issued another Resolution No. 2, series of 2003 granting the CNA incentive, this time, to Government-owned or Controlled Corporations (GOCCs) and Government Financial Institutions (GFIs) specifying additional guidelines in determining the amount of the CNA incentive.On September 28, 2004, the PSLMC next issued Resolution No. 2, series of 2004, adopting the \"Amended Rules and Regulations Governing the Exercise of the Right of Government Employees to Organize.\" It pertinently recognized the grant of the CNA incentive to government employees which may be the subject of negotiation between the management and the accredited employee's organization.On August 31, 2004, then President Gloria Macapagal-Arroyo issued Administrative Order (AO) No. 103 entitled \"Directing the Continued Adoption of Austerity Measures in the Government\" in order to meet the country's fiscal targets and maintain economic stability through various cost-cutting measures. Thus, all NGAs, SUCs, GOCCs, GFIs and other government Corporate Entities (OGCEs), whether exempt from Salary Standardization Law or not, were directed to suspend the grant of new or additional benefits to their officials and employees. However, the AO particularly exempted from said suspension CNA Incentives agreed to be given in strict compliance with the provisions of the PSLMC Resolutions No. 04, s. 2002 and No. 2, s. 2003.On December 27, 2005, President Arroyo issued AO No. 135 entitled \"Authorizing the Grant of Collective Negotiation Agreement (CNA) Incentive to Employees in Government Agencies\" re-confirming the grant of the CNA incentive, pursuant to CNAs entered into on or after the effectivity of PSLMC Resolution No. 4, series of 2002, and PSLMC Resolution No. 2, series of 2003. It limited the grant to rank-and-file employees and precluded its duplication with incentives granted through the Program on Awards and Incentives for Service Excellence (PRAISE). In addition, it provided that the DBM shall issue the policy and procedural guidelines for the implementation thereof.Pursuant thereto, the DBM issued Budget Circular No. 2006-1 on February 1, 2006 prescribing the guidelines on the grant of CNA Incentives authorized under the PSLMC Resolutions, confirmed by AO No. 135.On November 26, 2010, petitioner Kalipunan ng mga Kawani sa Kagawaran ng Kalikasan (K4), the registered national union of the DENR rank-and-file employees, and the DENR, entered into a CNA.[1]On September 29, 2011, the DBM issued Circular Letter No. 2011-9 reminding all concerned that the CNA incentive shall be granted in accordance with the provision of Budget Circular No. 2006-1. It reiterated (1) the one-time grant of the incentive paid after the end of the year, provided that the planned targets have been completed; (2) the funding source of the incentive which is limited to savings generated from pre-identified expense accounts; and 3) the submission of reports to the DBM on the utilization of savings for the payment of the incentive.Shortly thereafter, on December 26, 2011, the DBM issued the assailed Budget Circular No. 2011-5 to prescribe supplemental guidelines on the grant of the CNA Incentive for the Fiscal Year 2011, in addition to Budget Circular No. 2006-1 and Circular Letter No. 2011-9, pursuant to Item (4)(h)(ii)(aa) of the Senate and House of Representatives Joint Resolution (JR) No. 4, series of 2009.[2] Particularly, the circular provided that \"the CNA incentive for FY 2011 shall be determined based on the amount of savings generated by an agency following the guidelines herein, but not to exceed P25,000.00 per qualified employee.\" It, likewise, provided that it shall take effect immediately.[3]Consequently, the COA issued Notice of Disallowance (ND) No. 12-002-101 (11)[4] dated May 22, 2012 with respect to the CNA Incentives granted by the DENR to its officers and employees for CY 2011 totaling P31,275,975.00. It disallowed the amount of P14,983,500.40 for being in excess of the P25,000.00 limit per qualified employee as provided in Section 3.5 of DBM Budget Circular No. 2011-5. As such, the COA directed the concerned employees to return the excess.On December 21, 2012, petitioner DENREU filed an Appeal Memorandum before the COA seeking a reconsideration of ND No. 12-002-101 (11). In its September 11, 2015 Decision, however, the COA dismissed the appeal for being filed out of time or beyond the six (6)-month reglementary period from receipt of the ND as allowed under the Revised Rules of Procedure of the COA. Then, on December 21, 2017, the COA issued a Notice of Finality of Decision ordering the named persons liable to pay their shares of the disallowed amount to the agency cashier and authorizing said cashier to withhold payment of their salaries in the event of their failure to pay. Subsequently, the COA issued an Order of Execution dated January 11, 2018 instructing the DENR to withhold payment of salaries or any amount due the concerned employees to settle their liabilities subject of the disallowance.A month prior to their appeal to the COA or on November 20, 2012, petitioners filed the instant petition essentially raising the following issue:I.WHETHER OR NOT DBM BUDGET CIRCULAR NO. 2011-5 DATED DECEMBER 26, 2011 IS CONSTITUTIONAL, AND THUS, VALID AND BINDING FOR CALENDAR YEAR 2011.Petitioners raise infirmities attendant in the issuance of DBM Budget Circular No. 2011-5 rendering it unconstitutional, specifically the circular's lack of prior publication in the Official Gazette or newspaper of general circulation, required by law and jurisprudence of administrative regulations as a condition for their effectivity. Petitioners maintain that the circular, issued on December 26, 2011, cannot be permitted to impose restrictions on the grant of CNA Incentives for the same fiscal year 2011 without the requisite publication. They highlight the fact that the circular was received by the DENR only on December 29, 2011, which was the last official day for the calendar year 2011, at a time when negotiations on the CNA Incentive between the DENR management and the union had already concluded.Moreover, petitioners assert their vested right to the incentive which was simply dependent on the savings generated by the agency for the year without the P25,000.00 limitation imposed by the circular. To require them to refund the amount they received in good faith would cause them grave injustice and irreparable injury that the Court must prevent through the grant of an injunction restraining respondent from implementing its circular.In his Comment, respondent Secretary Florencio B. Abad of the DBM questions the remedy of prohibition used by petitioners, for the assailed circular was issued in his exercise of quasi-legislative powers. He also alleges that there can be no vested right to the CNA incentive for one's right to the same becomes enforceable only upon compliance with the conditions set forth by law and issuances.Secretary Abad cites the ruling in Manila International Airport Authority (MIAA) v. COA,[5] wherein the validity of DBM Budget Circular No. 2006-1 was upheld for being germane to the purposes of AO No. 135 and PSLMC Resolution No. 2 to ensure that the CNA incentive be funded by savings generated from cost-reducing measures and no other. Since the assailed DBM Budget Circular No. 2011-5 similarly seeks to ensure that the government programs are not hampered by the tendency of agencies to scrimp on vital expenditures or bloating their budgets to accumulate savings for the CNA incentive, a benefit which petitioners have no vested right to, said circular must also be upheld. Moreover, this Court, in MIAA v. COA,[6] had already affirmed the authority of the DBM to issue rules and regulations in the grant of CNA Incentives. Furthermore, Secretary Abad adds that petitioners' failure to comply with the condition imposed by DBM Budget Circular No. 2006-1 requiring that the incentive be paid only after the end of the year constitutes a violation thereof making the grant of the incentive unlawful.As to the publication requirement, Secretary Abad counters that the DENR admittedly received a copy of the assailed circular before the end of FY 2001 or on December 29, 2011. Had they followed the mandate of DBM Budget Circular No. 2011-5 on payment of the incentive after the end of the year, they would have considered the P25,000.00 cap imposed by the assailed circular. Thus, they cannot now challenge the validity of DBM Budget Circular No. 2011-5 for they were given due notice of the same on December 29, 2011. Moreover, he adds that, at any rate, the subject circular was, in fact, published in the Philippine Star, a newspaper of general circulation, as evidenced by the certification[7] attached in his Comment.The petition is granted in part.At the outset, the Court takes notice of the fact that the COA had already issued Notices of Finality of Decision and the corresponding Orders of Execution as a result of the dismissal of petitioners' appeal for being filed beyond the six (6)-month reglementary period. As a general rule, the perfection of an appeal in the manner and within the period permitted by law is not only mandatory but also jurisdictional, and the failure to perfect the appeal renders the judgment of the court final and executory. As such, it has been held that the availability of an appeal is fatal to a special civil action for certiorari, for the same is not a substitute for a lost appeal.[8]But while it is doctrinally entrenched that certiorari is not a substitute for a lost appeal, the Court has allowed the resort to a petition for certiorari despite the existence of or prior availability of an appeal, such as: (1) where the appeal does not constitute a speedy and adequate remedy; (2) where the orders were also issued either in excess of or without jurisdiction; (3) for certain special considerations, as public welfare or public policy; (4) where in criminal actions, the court rejects rebuttal evidence for the prosecution as, in case of acquittal, there could be no remedy; (5) where the order is a patent nullity; and (6) where the decision in the certiorari case will avoid future litigations.[9]We find the present case to fall under the exception rather than the general rule. As will be discussed below, there exists urgent, meritorious considerations which the Court must pass upon lest there be an unwarranted denial of justice. We have recently ruled in Confederation for Unity, Recognition and Advancement of Government Employees (COURAGE), et. al. v. Abad,[10] that the challenged Budget Circular No. 2011-5 affects all government employees with existing valid CNAs allowing the grant of CNA Incentives. Since there are no facts, moreover, that would necessitate burdening the Court with the task of exhaustive examination of evidentiary matters, We shall consider the merits of the present case in the interest of judicial economy and to prevent further delay in its disposition.On the procedural issue of the propriety of petitioners' chosen action for prohibition, the Court has recently made certain clarifications insofar as judicial power is concerned. It is true that under Rule 65[11] of the Rules of Court, a petition for certiorari and prohibition corrects errors of jurisdiction committed by any tribunal, corporation, board, officer or person, exercising judicial, quasi-judicial or ministerial functions. It is also true that the subject Budget Circular No. 2011-5 was issued in the DBM Secretary's rule-making or quasi-legislative functions. But We have had several occasions where We found the Court's judicial power under Article VIII, Section 1 of the 1987 Constitution[12] to be broad enough to include the determination of whether or not there has been a grave abuse of discretion amounting to lack or excess of jurisdiction on the part of any branch or instrumentality of the Government even in their exercise of legislative and quasi-legislative functions.As enunciated in Inmates of the New Bilibid Prison v. De Lima:[13]True, a petition for certiorari and prohibition is not an appropriate remedy to assail the validity of the subject IRR as it was issued in the exercise of respondents' rule-making or quasi-legislative function. Nevertheless, the Court has consistently held that \"petitions for certiorari and prohibition are appropriate remedies to raise constitutional issues and to review, prohibit or nullify the acts of legislative and executive officials.\" In Araullo v. Aquino III, former Associate Justice, now Chief Justice, Lucas P. Bersamin, explained the remedies of certiorari and prohibition, thus:x x x xWith respect to the Court, however, the remedies of certiorari and prohibition are necessarily broader in scope and reach, and the writ of certiorari or prohibition may be issued to correct errors of jurisdiction committed not only by a tribunal, corporation, board or officer exercising judicial, quasi-judicial or ministerial functions but also to set right, undo and restrain any act of grave abuse of discretion amounting to lack or excess of jurisdiction by any branch or instrumentality of the Government, even if the latter does not exercise judicial, quasi-judicial or ministerial functions. This application is expressly authorized by the text of the second paragraph of Section 1, supra.Thus, petitions for certiorari and prohibition are appropriate remedies to raise constitutional issues and to review and/or prohibit or nullify the acts of legislative and executive officials.Necessarily, in discharging its duty under Section 1, supra, to set right and undo any act of grave abuse of discretion amounting to lack or excess of jurisdiction by any branch or instrumentality of the Government, the Court is not at all precluded from making the inquiry provided the challenge was properly brought by interested or affected parties. The Court has been thereby entrusted expressly or by necessary implication with both the duty and the obligation of determining, in appropriate cases, the validity of any assailed legislative or executive action. This entrustment is consistent with the republican system of checks and balances.[14]In cases, therefore, where proper, interested parties seek to assail alleged unconstitutional acts of legislative and executive officials committed with grave abuse of discretion amounting to lack or excess of jurisdiction, the Court shall not refrain from performing its judicial duty to determine the validity of the assailed action. In this case, the issue set forth by petitioners is precisely whether Secretary Abad gravely abused his discretion in issuing the assailed DBM Budget Circular No. 2011-5.It must be remembered, though, that no question involving the constitutionality or validity of a law or governmental act may be heard and decided unless the following requisites for judicial inquiry are present: (a) there must be an actual case or controversy calling for the exercise of judicial power; (b) the person challenging the act must have the standing to question the validity of the subject act or issuance; (c) the question of constitutionality must be raised at the earliest opportunity; and (d) the issue of constitutionality must be the very lis mota of the case.[15] Here, Secretary Abad does not raise any objection as to the presence or absence of these requisites. In any case, as We have held above, We find it imperative to consider the merits of the present petition in the interest of judicial economy and prevention of further delay.[16]As for the substantive issue, the Court, in COURAGE had upheld the DBM's authority to prescribe rules insofar as CNA Incentives is concerned.[17] Specifically, applicable laws such as EO No. 180 and AO No. 135, as well as relevant jurisprudence, all highlighted the DBM's power to regulate the payment of compensation to employees of the government. Thus:Nonetheless, the P25,000.00 CNA incentive ceiling in Budget Circular No. 2011-5 is in consonance with the law and existing rules.While Executive Order No. 180 vests power to promulgate rules to implement it in the PSLMC, it did not necessarily deprive the Department of Budget and Management power to issue rules in relation to compensation as a result of collective negotiations between government employees' organizations and their employers.As the governmental body with the power to administer the national government's compensation and position classification system, the Department of Budget and Management controls and regulates the payment of compensation to all appointive and elective positions in government, including government-owned and controlled corporations and government financial institutions. In Commission on Human Rights Employees' Association v. Commission on Human Rights:This power to \"administer\" is not purely ministerial in character as erroneously held by the Court of Appeals. The word to administer means to control or regulate in behalf of others; to direct or superintend the execution, application or conduct of; and to manage or conduct public affairs, as to administer the government of the state.The regulatory power of the DBM on matters of compensation is encrypted not only in law, but in jurisprudence as well. In the recent case of Philippine Retirement Authority (PRA) v. Jesusito L. Buñag, this Court, speaking through Mr. Justice Reynato Puno, ruled that compensation, allowances, and other benefits received by PRA officials and employees without the requisite approval or authority of the DBM are unauthorized and irregular. In the words of the Court —Despite the power granted to the Board of Directors of PRA to establish and fix a compensation and benefits scheme for its employees, the same is subject to the review of the Department of Budget and Management. However, in view of the express powers granted to PRA under its charter, the extent of the review authority of the Department of Budget and Management is limited. As stated in Intia, the task of the Department of Budget and Management is simply to review the compensation and benefits plan of the government agency or entity concerned and determine if the same complies with the prescribed policies and guidelines issued in this regard. The role of the Department of Budget and Management is supervisorial in nature, its main duty being to ascertain that the proposed compensation, benefits and other incentives to be given to PRA officials and employees adhere to the policies and guidelines issued in accordance with applicable laws.In Victorina Cruz v. Court of Appeals, we held that the DBM has the sole power and discretion to administer the compensation and position classification system of the national government.In Intia, Jr. v. Commission on Audit, the Court held that although the charter of the Philippine Postal Corporation (PPC) grants it the power to fix the compensation and benefits of its employees and exempts PPC from the coverage of the rules and regulations of the Compensation and Position Classification Office, by virtue of Section 6 of P.D. No. 1597, the compensation system established by the PPC is, nonetheless, subject to the review of the DBM. This Court intoned:It should be emphasized that the review by the DBM of any PPC resolution affecting the compensation structure of its personnel should not be interpreted to mean that the DBM can dictate upon the PPC Board of Directors and deprive the latter of its discretion on the matter. Rather, the DBM's function is merely to ensure that the action taken by the Board of Directors complies with the requirements of the law, specifically, that PPC's compensation system \"conforms as closely as possible with that provided for under R.A. No. 6758.\"Particularly, Administrative Order No. 135, series of 2005, authorizes the grant of the CNA incentives to \"national government agencies (NGAs), local government units (LGUs), state universities and colleges (SUCs), government-owned or controlled corporations (GOCCs), and government financial institutions (GFIs), if provided in their respective CNAs and supplements thereto executed between the management and employees' organization accredited by the Civil Service Commission.\" Section 6 of this administrative order grants the power to issue the policy and procedural guidelines to the Department of Budget and Management:SEC. 6. Implementation. — The Department of Budget and Management shall issue the policy and procedural guidelines to implement this Administrative Order.This authority is consistent with Government Appropriations Acts (GAA), such as R.A. No. 10155 or the GAA of 2012, R.A. No. 10352 or GAA of 2013, R.A. No. 10633 or GAA of 2014, which have always limited CNA Incentives to rates as determined by the DBM. COURAGE expounds:In this regard, as pointed out during deliberations by Associate Justice Estela Perlas-Bernabe, Government Appropriations Acts over the years have included provisions that limited approved CNA incentives to reasonable rates as determined by the Department of Budget and Management.Republic Act No. 10155, otherwise known as the General Appropriations Act of 2012, states:Section 56. Rules in the Realignment of Funds. — Realignment of funds from one allotment class to another shall require prior approval of the DBM.Departments, agencies and offices are authorized to augment any item of expenditure within Personal Services and MOOE except confidential and intelligence funds which require prior approval of the President of the Philippines. However, realignment of funds among objects of expenditures within Capital Outlays shall require prior approval of the DBM.Notwithstanding the foregoing, realignment of any savings for the payment of magna carta benefits authorized under Section 41 hereof shall require prior approval of the DBM. Moreover, the use of savings for the payment of Collective Negotiation Agreement (CNA) incentives by agencies with approved and successfully implemented CNAs pursuant to DBM Budget Circular No. 2006-1 dated February 1, 2006 shall be limited to such reasonable rates as may be determined by the DBM.Republic Act No. 10352, otherwise known as the General Appropriations Act of 2013, states:Section 55. Rules in the Realignment of Savings for the Payment of Collective Negotiation Agreement Incentives. — Savings from allowable MOOE allotments generated out of cost-cutting measures identified in the Collective Negotiation Agreements (CNAs) and supplements thereto may be used for the grant of CNA incentive by agencies with duly executed CNAs: PROVIDED, That the one-time annual payment of CNA incentives must be made through a written resolution signed by representatives of both labor and management, and approved by the agency head: PROVIDED, FURTHER, That the funding sources and amount of CNA incentives shall, in all cases, be limited to the allowable MOOE allotments and rates determined by the DBM, respectively.Implementation of this provision shall be governed by DBM Budget Circular Nos. 2006-1 and 2011-5 and such other issuances that may be issued by the DBM for the purpose.Republic Act No. 10633, otherwise known as the General Appropriations Act of 2014, states:Section 71. Rules in the Realignment of Savings for the Payment of Collective Negotiation Agreement Incentives. — Savings from allowable MOOE allotments, generated out of cost-cutting measures undertaken by the agencies of the government and their respective personnel, which are identified in the Collective Negotiation Agreements (CNAs) and supplements thereto may be used for the grant of CNA incentive by agencies with duly executed CNAs: PROVIDED, That the one-time annual payment of CNA incentives shall be made through a written resolution signed by representatives of both labor and management, and approved by the agency head: PROVIDED, FURTHER, That the funding sources and amount of CNA incentives shall in all cases be limited to the allowable MOOE allotments and rates determined by the DBM, respectively; PROVIDED, FINALLY, That the realignment of savings from the allowable MOOE allotments shall be subject to approval by the DBM.Implementation of this provision shall be subject to guidelines issued by the DBM.Clearly, in imposing a P25,000 budget ceiling for CNA incentives, the Department of Budget and Management acted according to the authority granted to it by law and existing rules.Be that as it may, We refrain from holding the DENR employees liable for the refund of the excess CNA Incentives received. It is settled in law and jurisprudence that publication is imperative as a condition precedent to the effectivity of a law to fully and categorically inform the public of its contents before their rights and interests are affected by the same.[18] As early as 1986, this Court, in Tañada v. Tuvera[19] had already enunciated the indispensability of the publication requirement, to wit:We hold therefore that all statutes, including those of local application and private laws, shall be published as a condition for their effectivity, which shall begin fifteen days after publication unless a different effectivity date is fixed by the legislature.Covered by this rule are presidential decrees and executive orders promulgated by the President in the exercise of legislative powers whenever the same are validly delegated by the legislature, or, at present, directly conferred by the Constitution. Administrative rules and regulations must also be published if their purpose is to enforce or implement existing law pursuant also to a valid delegation.[20]Likewise, the Civil Code states that \"laws shall take effect after fifteen days following the completion of their publication either in the Official Gazette or in a newspaper of general circulation in the Philippines, unless it is otherwise provided.\"[21] Reinforcing the requirement of publication, Chapter 2 of Book VII of the Revised Administrative Code provides:CHAPTER 2Rules and RegulationsSection 3. Filing. — (1) Every agency shall file with the University of the Philippines Law Center three (3) certified copies of every rule adopted by it. Rules in force on the date of effectivity of this Code which are not filed within three (3) months from that date shall not thereafter be the basis of any sanction against any party or persons.(2) The records officer of the agency, or his equivalent functionary, shall carry out the requirements of this section under pain of disciplinary action.(3) A permanent register of all rules shall be kept by the issuing agency and shall be open to public inspection.Section 4. Effectivity. — In addition to other rule-making requirements provided by law not inconsistent with this Book, each rule shall become effective fifteen (15) days from the date of filing as above provided unless a different date is fixed by law, or specified in the rule in cases of imminent danger to public health, safety and welfare, the existence of which must be expressed in a statement accompanying the rule. The agency shall take appropriate measures to make emergency rules known to persons who may be affected by them.SECTION 5. Publication and Recording. — The University of the Philippines Law Center shall: (1) Publish a quarterly bulletin setting forth the text of rules filed with it during the preceding quarter; and(2) Keep an up-to-date codification of all rules thus published and remaining in effect, together with a complete index and appropriate tables.SECTION 6. Omission of Some Rules. — (1) The University of the Philippines Law Center may omit from the bulletin or the codification any rule if its publication would be unduly cumbersome, expensive or otherwise inexpedient, but copies of that rule shall be made available on application to the agency which adopted it, and the bulletin shall contain a notice stating the general subject matter of the omitted rule and new copies thereof may be obtained.(2) Every rule establishing an offense or defining an act which, pursuant to law is punishable as a crime or subject to a penalty shall in all cases be published in full text.SECTION 7. Distribution of Bulletin and Codified Rules. — The University of the Philippines Law Center shall furnish one (1) free copy each of every issue of the bulletin and of the codified rules or supplements to the Office of the President, Congress, all appellate courts and the National Library. The bulletin and the codified rules shall be made available free of charge to such public officers or agencies as the Congress may select, and to other persons at a price sufficient to cover publication and mailing or distribution costs.SECTION 8. Judicial Notice. — The court shall take judicial notice of the certified copy of each rule duly filed or as published in the bulletin or the codified rules.SECTION 9. Public Participation. — (1) If not otherwise required by law, an agency shall, as far as practicable, publish or circulate notices of proposed rules and afford interested parties the opportunity to submit their views prior to the adoption of any rule.(2) In the fixing of rates, no rule or final order shall be valid unless the proposed rates shall have been published in a newspaper of general circulation at least two (2) weeks before the first hearing thereon.(3) In case of opposition, the rules on contested cases shall be observed.There may have been instances in the past, however, where the Court recognized exceptions to the rules on prior publication and filing with the U.P. Law Center - ONAR. Accordingly, interpretative regulations, which need nothing further than their bare issuance for they give no real consequence more than what the law itself has already prescribed,[22] and those merely internal in nature, that is, regulating only the personnel of the administrative agency and not the public need not be published.[23] Neither is publication required of the so-called letters of instructions issued by administrative superiors concerning the rules on guidelines to be followed by their subordinates in the performance of their duties.[24]Thus, in Villafuerte v. Cordial, Jr.,[25] the Court held that Resolution No. 13-2013 which provides for the rules of procedure concerning the conduct of investigation against municipal officials need not be published because it was merely interpretative of the Local Government Code.In Association of International Shipping Lines, Inc. v. Secretary of Finance,[26] We ruled that Revenue Regulation No. 15-2013 need not be published nor registered with the U.P. Law Center to be effective as it is merely an internal issuance for the guidance of \"all internal revenue officers and others concerned\" which purports to do no more than interpret the statute.Also, in Cawad, et. al. v. Sec. Abad, et. al.,[27] We upheld the validity of DBM circulars providing for certain conditions on the grant of Magna Carta benefits to public health workers (PWH) in spite of the circulars' delayed publication and non-filing with U.P. Law Center - ONAR for the conditions were mere reiterations of those already embodied in the Magna Carta and its IRR.Similarly, in Veterans Federation of the Philippines v. Reyes,[28] when several orders issued by the Energy Regulatory Commission were sought to be invalidated for lack of publication and non-submission of copies thereof to the U.P. Law Center - ONAR, it has been held that since they merely interpret R.A. No. 7832 and its IRR, without modifying, amending or supplanting the same, they cannot be rendered ineffective for they did not actually create a new obligation or impose a new duty, nor did they attach a new disability.In Republic of the Philippines v. Drugmaker's Laboratories, Inc., et. al.,[29] the Court likewise upheld the validity of circulars issued by the Food and Drug Administration despite non-compliance with the publication requirement for they did not affect substantive rights of the parties they sought to govern. Furthermore, We upheld the validity of administrative issuances in Board of Trustees of the Government Service Insurance System v. Velasco[30] for pertaining only to internal rules meant to regulate the personnel of the GSIS or to a mere directive issued by the National Power Corporation President to his subordinates to regulate the proper and efficient disposal, pre-qualification, bidding and award of scrap ACSR wires, as in National Power Corporation v. Pinatubo Commercial,[31] that does not affect the rights of the public in general or of any other person not involved in the bidding process.Accordingly, an administrative regulation can be construed as simply interpretative or internal in nature, dispensing with the requirement of publication, when its applicability needs nothing further than its bare issuance, for it gives no real consequence more than what the law itself has already prescribed. When, however, the administrative rule goes beyond merely providing for the means that can facilitate or render least cumbersome the implementation of the law but substantially increases the burden of those governed, it behooves the agency to accord at least to those directly affected a chance to be heard, and thereafter, to be duly informed, before that new issuance is given the force and effect of law.[32]In this case, while the assailed DBM Budget Circular No. 2011-5 dated December 26, 2011 was, in fact, published in the Philippine Star, it was done only on February 25, 2012, or two months after the issuance of the same on December 29, 2011,[33] and two months after the DENR's grant of the CNA incentive on December 28, 2011.[34] In addition, as certified by the U.P. Law Center-ONAR, the circular was not filed therewith as mandated by the Administrative Code of 1987.[35]As previously discussed, this would not have mattered had the said circular been merely interpretative or internal in nature. Unfortunately, however, DBM Budget Circular No. 2011-5 cannot be said to give no real consequence more than what the law itself has already prescribed nor can it be said that it does not affect substantial rights of any person. Prior issuances on the matter of the CNA incentive merely require that the CNA Incentive shall be derived from savings generated by an agency which are no longer intended for any specific purpose after all its planned targets, programs, and services for the year have been accomplished. They do not, however, impose any maximum allowable amount which government agencies must limit the incentive to. Otherwise put, without the disputed circular, there would be no maximum allowable amount of P25,000.00 for the CNA incentive per qualified employee. As such, the circular was issued not to simply interpret the law.Neither was it issued to regulate only the personnel of an administrative agency, nor issued by an administrative superior concerning guidelines to be followed by their subordinates in the performance of their duties. The subject circular actually increases the burden of those governed, encompassing not merely the personnel of a particular administrative agency, such as the DENR in this case, but employees of all NGAs, SUCs, LGUs, GOCCs, and GFIs in the county. Its publication, therefore, cannot be dispensed with.In Manila Public School Teachers' Association v. Garcia,[36] the Court invalidated certain resolutions of the GSIS due to lack of publication. While the GSIS filed copies of the subject resolutions with the U.P. Law Center-ONAR, it only did so after the claims of the retirees and beneficiaries had already been lodged. More importantly, We rejected the GSIS' claim that said resolutions were simply interpretative of the statute it sought to implement because they actually increase the burden of GSIS members. The resolutions additionally obligate member-employees to ensure that their employer-agency includes the GS in the budget, deducts the PS, as well as loan amortizations, and timely remits them; and that the GSIS receives, processes, and posts the payments.In like manner, We ruled in Republic v. Pilipinas Shell Petroleum Corp.[37] that the failure to comply with the requirements of publication and filing of administrative issuances rendered MOF Circular No. 1-85, as amended, ineffective. These requirements of publication and filing were put in place as safeguards against abuses on the part of lawmakers and as guarantees to the constitutional right to due process and to information on matters of public concern and, therefore, require strict compliance.In National Association of Electricity Consumers for Reforms v. Energy Regulatory Commission (ERC),[38] We nullified the assailed ERC Order approving the increase of respondent MERALCO's generation charge from P3.1886 to P3.3213 per kWh effective immediately for having been issued without the requisite publication. The fact that the parties participated in the public consultation and submitted their respective comments is not compliance with the fundamental rule.Also, in De Jesus v. Commission on Audit,[39] We declared DBM-Corporate Compensation Circular (CCC) No. 10 to be ineffective due to its non-publication. The circular, which completely disallows payment of allowances and other additional compensation to government officials and employees, is not a mere interpretative or internal regulation. De Jesus taught us that said circular would have been effective and enforceable had it gone through the requisite publication in the Official Gazette or in a newspaper of general circulation.In National Electrification Administration v. Gonzaga,[40] We nullified the Electric Cooperative Election Code (ECEC) for it was, again, issued without compliance with the publication requirement. Since said code applies to all electric cooperatives in the country, it cannot be deemed a mere internal memorandum, interpretative regulation, or instruction to subordinates. Thus, the ECEC should have complied with the requirements on publication.Here, while the subject circular was, indeed, published, the publication came months after its effectivity. Settled is the rule that a belated publication cannot have retroactive effect of curing the infirmity attendant in the passage of the administrative regulation.[41] Time and again, the Court has held that the publication requirement on laws is part and parcel of the constitutional mandate of due process.[42] Its omission is tantamount to denying the public of knowledge and information of the laws that govern it; hence, a violation of due process. Effectivity of laws, therefore, depends on their publication. Without such notice and publication, the conclusive presumption cannot apply for laws and rules are to be binding only when their existence and contents are confirmed by a valid publication. What is required by law, therefore, is prior publication. The fact that the assailed circular herein was published in the Philippine Star on February 25, 2012, or two months after the issuance of the same cannot be permitted to have any curative effect, especially in light of the fact that it aims to impose restrictions on the grant of the CNA Incentive for the previous fiscal year 2011.On this point, Secretary Abad insists that in any case, the DENR admittedly received a copy of the assailed circular before the end of FY 2011 or on December 29, 2011. As such, they cannot now challenge the validity of DBM Budget Circular No. 2011-5 for they were given due notice of the same. Such contention cannot be given credence for as distinctly ruled in Republic v. Pilipinas Shell Petroleum Corporation,[43] the fact that the affected parties were notified of the administrative circular does not constitute as an exemption from compliance with the publication requirement, viz.:Petitioner also insists that the registration of MOF Circular No. 1-85, as amended, with the ONAR is no longer necessary since the respondent knew of its existence, despite its non-registration. This argument is seriously flawed and contrary to jurisprudence. Strict compliance with the requirements of publication cannot be annulled by a mere allegation that parties were notified of the existence of the implementing rules concerned. Hence, also in National Association of Electricity Consumers for Reforms v. Energy Regulatory Board, this Court pronounced:In this case, the GRAM Implementing Rules must be declared ineffective as the same was never published or filed with the National Administrative Register. To show that there was compliance with the publication requirement, respondents MERALCO and the ERC dwell lengthily on the fact that parties, particularly the distribution utilities and consumer groups, were duly notified of the public consultation on the ERC's proposed implementing rules. These parties participated in the said public consultation and even submitted their comments thereon.However, the fact that the parties participated in the public consultation and submitted their respective comments is not compliance with the fundamental rule that the GRAM Implementing Rules, or any administrative rules whose purpose is to enforce or implement existing law, must be published in the Official Gazette or in a newspaper of general circulation. The requirement of publication of implementing rules of statutes is mandatory and may not be dispensed with altogether even if, as in this case, there was public consultation and submission by the parties of their comments.[44]The Court cannot over-emphasize the mandatory nature of the publication requirement insofar as the effectivity of administrative issuances is concerned. As a basic postulate of procedural due process guaranteed by the Constitution, it is necessary to give as wide publicity as possible so that all persons having an interest in the proceedings may be notified thereof.[45] In keeping with the foregoing principles, We nullified, in COURAGE, the order made on the concerned DSWD employees to refund the excess CNA Incentives they received on the basis of vested rights vis-a-vis the wrongful retroactive application of Budget Circular No. 2011-5, to wit:However, we agree with petitioners' position against the retroactive application of Budget Circular No. 2011-5 to CNA incentives already released to the employees. Generally, while the Department of Budget and Management has the power to impose conditions for the grant of CNA incentives, in this case, the conditions were imposed after the benefits had already been released by the Department of Social Welfare and Development, and received by the employees. The Department of Budget and Management had not put in place a ceiling on CNA incentives when the P30,000.00 CNA incentive - the total amount from October 26, 2011 and December 3, 2011 memoranda issued by DSWD Secretary Soliman - was granted. Budget Circular No. 2011-5 containing the P25,000.00 ceiling was issued only on December 26, 2011 and published only on February 25, '2012. In this particular instance, the benefits had already vested in the employee's behalf.[46]All told, while Secretary Abad was duly authorized to issue policy guidelines in the form of Budget Circular No. 2011-5 that set a P25,000.00 CNA Incentive ceiling, due process dictates that the same cannot be permitted to retroactively apply to incentives granted before its publication.WHEREFORE, premises considered, the instant petition is PARTIALLY GRANTED. The following issuances of the Commission on Audit are ANNULLED and SET ASIDE: (1) Notice of Disallowance No. 12-002-101 (11) dated May 22, 2012; (2) Decision dated September 11, 2015; (3) Notice of Finality of Decision dated December 21, 2017 ordering the persons named in the ND liable to pay their shares of the disallowed amount to the cashier of the Department of Environment and Natural Resources and authorizing said cashier to withhold payment of their salaries in the event of their failure to pay; and (4) Order of Execution dated January 11, 2018 instructing the DENR cashier to withhold payment of salaries or any amount due the concerned employees to settle their liabilities subject of the disallowance.SO ORDERED.Perlas-Bernabe, Leonen, Caguioa, Gesmundo, Hernando, Carandang, Lazaro-Javier, Inting, Zalameda, Lopez, Delos Santos, and Gaerlan, JJ., concur.Rosario, J., on wellness leave.NOTICE OF JUDGMENTSirs/Mesdames: Please take notice that on January 19, 2021 a Decision, copy attached herewith, was rendered by the Supreme Court in the above-entitled case, the original of which was received by this Office on March 1, 2021 at 11:00 a.m.  Very truly yours,       (SGD) EDGAR O. ARICHETA    Clerk of Court [1] Rollo, pp. 7 and 66.[2] Entitled \"Joint Resolution Authorizing the President of the Philippines to Modify the Compensation and Position Classification System of Civilian Personnel and the Base Pay Schedule of Military and Uniformed Personnel in the Government and for Other Purposes\" approved on June 17, 2009.[3] DBM Budget Circular No. 2011-5, Sec. 6.[4] Rollo, pp. 29-45.[5] 681 Phil. 644, 666 (2012).[6] Id.[7] Rollo, p. 82.[8] Philippine Health Insurance Corp. v. Commission on Audit, G.R. No. 222710 (Resolution), September 10, 2019.[9] Id.[10] G.R. No. 200418, November 10, 2020.[11] Section 2, Rule 65 of the Rules of Court provides:Section 1. Petition for certiorari. When any tribunal, board or officer exercising judicial or quasi-judicial functions has acted without or in excess of its or his jurisdiction, or with grave abuse of discretion amounting to lack or excess of jurisdiction, and there is no appeal, or any plain, speedy, and adequate remedy in the ordinary course of law, a person aggrieved thereby may file a verified petition in the proper court, alleging the facts with certainty and praying that judgment be rendered annulling or modifying the proceedings of such tribunal, board or officer, and granting such incidental reliefs as law and justice may require.The petition shall be accompanied by a certified true copy of the judgment, order or resolution subject thereof, copies of all pleadings and documents relevant and pertinent thereto, and a sworn certification of non-forum shopping as provided in the third paragraph of section 3, Rule 46.Sec. 2. Petition for Prohibition. — When the proceedings of any tribunal, corporation, board, officer or person, whether exercising judicial, quasi-judicial or ministerial functions, are without or in excess of its jurisdiction, or with grave abuse of discretion amounting to lack or excess of jurisdiction, and there is no appeal or any other plain, speedy, and adequate remedy in the ordinary course of law, a person aggrieved thereby may file a verified petition in the proper court, alleging the facts with certainty and praying that judgment be rendered commanding the respondent to desist from further proceedings in the action or matter specified therein, or otherwise granting such incidental reliefs as law and justice may require.[12] Section 1, Article VIII of the 1987 Constitution provides:Section 1. The judicial power shall be vested in one Supreme Court and in such lower courts as may be established by law.Judicial power includes the duty of the courts of justice to settle actual controversies involving rights which are legally demandable and enforceable, and to determine whether or not there has been a grave abuse of discretion amounting to lack or excess of jurisdiction on the part of any branch or instrumentality of the Government.[13] G.R. Nos. 212719 & 214637, June 25, 2019.[14] Id. (Emphases ours)[15] Id.[16] Supra note 10, citing Salud v. Court of Appeals, 303 Phil. 397 (1994).[17] Id.[18] Villafuerte v. Cordial, Jr., G.R. No. 222450, July 7, 2020; Aniñon v. Government Service Insurance System, G.R. No. 190410, April 10, 2019; Gutierrez, et. al. v. DBM, et. al., 630 Phil. 1, 21 (2010), citing Philippine International Trading Corporation v. Commission on Audit, 368 Phil. 478, 491 (1999).[19] 230 Phil. 528 (1986).[20] Id. at 535. (Emphasis ours).[21] Villafuerte v. Cordial, Jr., supra note 18; Securities and Exchange Commission v. GMA Network, Inc., 595 Phil. 721, 729 (2008).[22] Villafuerte v. Cordial, Jr., supra note 18; Association of International Shipping Lines, Inc. v. Secretary of Finance, G.R. No. 222239, January 15, 2020; Association of Southern Tagalog Electric Cooperatives, Inc. (ASTEC), et. al. v. Energy Regulatory Commission, 695 Phil. 243, 280 (2012), citing Commissioner of Internal Revenue v. Court of Appeals, 329 Phil. 987, 1007 (1996).[23] Villafuerte v. Cordial, Jr., supra note 18; Association of International Shipping Lines, Inc. v. Secretary of Finance, supra note 22; Tañada v. Tuvera, supra note 19.[24] Villafuerte v. Cordial, Jr., supra note 18.[25] Id.[26] Association of International Shipping Lines, Inc. v. Secretary of Finance, supra note 22.[27] 764 Phil. 705 (2015).[28] 518 Phil. 668, 704 (2006).[29] 728 Phil. 481 (2014).[30] 656 Phil. 385 (2011).[31] 630 Phil. 599 (2010).[32] Commissioner of Internal Revenue v. Michel J. Lhuillier Pawnshop, Inc., 453 Phil. 1043, 1058 (2003), citing Commissioner of Internal Revenue v. Court of Appeals, 329 Phil. 987, 1007 (1996).[33] See Certification attached to Comment of Respondent, rollo, p. 46.[34] See Comment of Respondent, id. at 67.[35] Rollo, p. 46.[36] 819 Phil. 53 (2017).[37] 574 Phil. 134 (2008).[38] 517 Phil. 23 (2006).[39] 355 Phil. 584 (1998).[40] 564 Phil. 356 (2007).[41] Philippine International Trading Corporation v. Commission on Audit, supra note 18.[42] Villafuerte v. Cordial, Jr., supra note 17; Aniñon v. Government Service Insurance System, supra note 18. [43] Supra note 37.[44] Id. at 146. (Emphases ours.)[45] Arroyo v. Department of Justice, et. al., 695 Phil. 302, 353 (2012), citing National Association of Electricity Consumers for Reforms v. Energy Regulatory Commission (ERC), supra note 38.[46] Emphases ours.\n",
      "\n",
      "\n",
      "\n",
      "\n",
      "\n",
      "\n",
      "\n",
      "\n",
      "\n",
      "\n",
      "\n",
      "51753\n"
     ]
    }
   ],
   "source": [
    "sample_file = juris__df.iloc[-1].to_numpy()\n",
    "sample_file_path = 2\n",
    "with open(sample_file[sample_file_path]) as file:\n",
    "    document = file.read()\n",
    "    dom = BeautifulSoup(document, 'lxml')\n",
    "\n",
    "sample_text = dom.get_text()\n",
    "print(sample_text)\n",
    "print(len(sample_text))"
   ]
  },
  {
   "attachments": {},
   "cell_type": "markdown",
   "metadata": {},
   "source": [
    "Jurisprudence document clearly has 12 pages and 8000+ words in one example. How much more for other documents? We need to impose a limit in such a way that GPT-3.5 can still take in these text without having to break its limit of 4096 tokens or roughly 1500 words"
   ]
  },
  {
   "cell_type": "code",
   "execution_count": 15,
   "metadata": {},
   "outputs": [],
   "source": [
    "def identify_text(juris__df) -> pd.DataFrame:\n",
    "    # open all files extract text with a certain limit\n",
    "    for itn, file_path in enumerate(juris__df.loc[:, 'file_path']):\n",
    "        print(file_path)\n",
    "        with open(file_path) as file:\n",
    "            document = file.read()\n",
    "            dom = BeautifulSoup(document, 'lxml')\n",
    "\n",
    "            # extract text of html file\n",
    "            text = dom.get_text()\n",
    "\n",
    "            if itn % 100 == 0:\n",
    "                pass\n",
    "                # print(text)\n",
    "\n",
    "            # make api call with GPT 3.5 here\n",
    "\n",
    "            # close file\n",
    "            file.close()\n",
    "            \n",
    "\n",
    "# content__df = identify_text(juris__df)\n"
   ]
  },
  {
   "attachments": {},
   "cell_type": "markdown",
   "metadata": {},
   "source": [
    "# GPT-3.5 API\n",
    "feed into chat gpt with the ff prompt\n",
    "Is this a labor related jurisprudence\n",
    "answer only yes or no"
   ]
  },
  {
   "cell_type": "code",
   "execution_count": 16,
   "metadata": {},
   "outputs": [],
   "source": [
    "import openai\n",
    "from openai import error\n",
    "import requests\n",
    "import time\n",
    "import random\n",
    "import func_timeout\n"
   ]
  },
  {
   "attachments": {},
   "cell_type": "markdown",
   "metadata": {},
   "source": [
    "# Check and load OpenAI API key"
   ]
  },
  {
   "cell_type": "code",
   "execution_count": 27,
   "metadata": {},
   "outputs": [
    {
     "name": "stdout",
     "output_type": "stream",
     "text": [
      "D:\\Projects\\To Github\\LaRJ-Corpus\n"
     ]
    },
    {
     "data": {
      "text/plain": [
       "True"
      ]
     },
     "execution_count": 27,
     "metadata": {},
     "output_type": "execute_result"
    }
   ],
   "source": [
    "# ff. imports are for getting secret values from .env file\n",
    "import os\n",
    "from dotenv import load_dotenv\n",
    "from pathlib import Path\n",
    "\n",
    "# Build paths inside the project like this: BASE_DIR / 'subdir'.\n",
    "BASE_DIR = Path(os.getcwd()).resolve().parent\n",
    "print(BASE_DIR)\n",
    "\n",
    "# specify path of .env file in which to access the secret values from\n",
    "# which is teh BASE_DIR where manage.py and requirements.txt live, \n",
    "# then append the string .env using os.path.join()\n",
    "load_dotenv(os.path.join(BASE_DIR, '.env'))"
   ]
  },
  {
   "cell_type": "code",
   "execution_count": 18,
   "metadata": {},
   "outputs": [],
   "source": [
    "# Load your API key from an environment variable or secret management service\n",
    "OPEN_AI_API_KEY = os.environ['OPEN_AI_API_KEY']\n",
    "auth_token = f\"Bearer {OPEN_AI_API_KEY}\"\n",
    "openai.api_key = OPEN_AI_API_KEY"
   ]
  },
  {
   "cell_type": "code",
   "execution_count": 19,
   "metadata": {},
   "outputs": [],
   "source": [
    "# # test gpt-3.5 model \n",
    "# response = requests.post('https://api.openai.com/v1/chat/completions', headers={\n",
    "#     \"Content-Type\": \"application/json\",\n",
    "#     \"Authorization\": auth_token\n",
    "# }, data={\n",
    "#     \"model\": \"gpt-3.5-turbo\",\n",
    "#     \"messages\": [{\"role\": \"user\", \"content\": \"hello!\"}]\n",
    "# })\n",
    "\n",
    "# response = openai.ChatCompletion.create(model=\"gpt-3.5-turbo\", messages=[{\"role\": \"user\", \"content\": \"hello!\"}])\n",
    "# print(response)"
   ]
  },
  {
   "attachments": {},
   "cell_type": "markdown",
   "metadata": {},
   "source": [
    "Testing GPT 3.5 to identify whether or not jurisprudence text is labor related or not labor related"
   ]
  },
  {
   "cell_type": "code",
   "execution_count": 20,
   "metadata": {},
   "outputs": [],
   "source": [
    "# prompt = f\"\"\"{sample_text[:18000]}\n",
    "\n",
    "# Identify if this case law is labor related answer in only binary terms. whether \"labor  related\" or \"not labor related\"\"\"\n",
    "\n",
    "# print(prompt)"
   ]
  },
  {
   "cell_type": "code",
   "execution_count": 21,
   "metadata": {},
   "outputs": [],
   "source": [
    "# response = openai.ChatCompletion.create(model=\"gpt-3.5-turbo\", messages=[{\"role\": \"user\", \"content\": prompt}])\n",
    "# print(response['choices'][0]['message']['content'])"
   ]
  },
  {
   "cell_type": "code",
   "execution_count": 22,
   "metadata": {},
   "outputs": [],
   "source": [
    "# # open random jurisprudence file\n",
    "# sample_file_2 = juris__df.iloc[random.randint(0, 60000)].to_numpy()\n",
    "# sample_file_path_2 = 2\n",
    "# with open(sample_file_2[sample_file_path_2]) as file:\n",
    "#     document = file.read()\n",
    "#     dom = BeautifulSoup(document, 'lxml')\n",
    "\n",
    "# sample_text_2 = dom.get_text()\n",
    "# print(sample_text_2)\n",
    "# print(len(sample_text_2))\n",
    "\n",
    "# # create prompt with this random jurisprudence file\n",
    "# prompt_2 = f\"\"\"{sample_text_2[:17000]}\n",
    "\n",
    "# Read and identify carefully whether this piece of case law is labor related or not labor related. Answer only in binary terms \"labor related\" or \"not labor related\"\"\"\n",
    "# print(prompt_2)\n",
    "\n",
    "# # feed prompt to chat gpt\n",
    "# response = openai.ChatCompletion.create(model=\"gpt-3.5-turbo\", messages=[{\"role\": \"user\", \"content\": prompt_2}])\n",
    "# answer = response['choices'][0]['message']['content']\n",
    "# print(f'response: {answer}')\n"
   ]
  },
  {
   "attachments": {},
   "cell_type": "markdown",
   "metadata": {},
   "source": [
    "# Do this for all 60000+ files\n",
    "using identify_text()"
   ]
  },
  {
   "cell_type": "code",
   "execution_count": 23,
   "metadata": {},
   "outputs": [],
   "source": [
    "def send_prompt(prompt, model=\"gpt-3.5-turbo\"):\n",
    "    response = openai.ChatCompletion.create(model=model, messages=[{\"role\": \"user\", \"content\": prompt}])\n",
    "    answer = response['choices'][0]['message']['content']\n",
    "    return answer\n",
    "\n",
    "def identify_text_2(juris__df) -> pd.DataFrame:\n",
    "\n",
    "    # populate list with all the answers of GPT 3.5\n",
    "    answers = []\n",
    "    accepted_file_paths = []\n",
    "\n",
    "    # open all files extract text with a certain limit\n",
    "    for itn, file_path in enumerate(juris__df.loc[:, 'file_path']):\n",
    "        print(file_path)\n",
    "        try:\n",
    "            with open(file_path) as file:\n",
    "                document = file.read()\n",
    "                dom = BeautifulSoup(document, 'lxml')\n",
    "\n",
    "                # extract text of html file\n",
    "                text = dom.get_text()\n",
    "\n",
    "                # make api call with GPT 3.5 here\n",
    "\n",
    "                # create prompt with this random jurisprudence file\n",
    "                prompt = f\"\"\"{text[:17000]}\n",
    "\n",
    "                Read and identify carefully whether this piece of case law is labor related or not labor related. Answer only in binary terms \"labor related\" or \"not labor related\"\"\"\n",
    "                # print(prompt)\n",
    "\n",
    "                # feed prompt to chat gpt to helper function func timeout to catch\n",
    "                # unresponsive rqeuests or requests that take to long. Will raise error if\n",
    "                # it takes too long\n",
    "                answer = func_timeout.func_timeout(40, send_prompt, args=(prompt,))\n",
    "\n",
    "                # append response if successful\n",
    "                # print(f'response: {answer}')\n",
    "                answers.append(answer)\n",
    "                accepted_file_paths.append(file_path)\n",
    "                \n",
    "                # close file\n",
    "                file.close()\n",
    "        except error.Timeout:\n",
    "            print('server has timed out retrying prompt')\n",
    "\n",
    "            # record what answers have been generated before error\n",
    "            # record what file path did the error occured\n",
    "            # pd.DataFrame({'file_path': accepted_file_paths,'answer': answers})\n",
    "            answers.append('TIMEOUT_ERROR')\n",
    "            accepted_file_paths.append(file_path)\n",
    "\n",
    "        except error.RateLimitError:\n",
    "            print('Rate limit reached for default-gpt-3.5-turbo in organization org-lQNgFbb5falHwdZD3HS05eya on requests per min. Limit: 20 / min. Please try again in 3s')\n",
    "            \n",
    "            # record what answers have been generated before error\n",
    "            # record what file path did the error occured\n",
    "            # pd.DataFrame({'file_path': accepted_file_paths,'answer': answers})\n",
    "            answers.append('RATE_LIMIT_ERROR')\n",
    "            accepted_file_paths.append(file_path)\n",
    "\n",
    "            # initiate 5 second delay\n",
    "            print('5 second delay occuring')\n",
    "            time.sleep(5.0)\n",
    "\n",
    "        except error.ServiceUnavailableError as e:\n",
    "            print(e._message)\n",
    "\n",
    "            # pd.DataFrame({'file_path': accepted_file_paths,'answer': answers})\n",
    "            answers.append('SERVICE_UNAVAILABLE_ERROR')\n",
    "            accepted_file_paths.append(file_path)\n",
    "\n",
    "        except error.InvalidRequestError as e:\n",
    "            print(e._message)\n",
    "\n",
    "            # pd.DataFrame({'file_path': accepted_file_paths,'answer': answers})\n",
    "            answers.append('INVALID_REQUEST_ERROR')\n",
    "            accepted_file_paths.append(file_path)\n",
    "\n",
    "        except func_timeout.FunctionTimedOut:\n",
    "            print('Request took too long will move to next file')\n",
    "\n",
    "            # pd.DataFrame({'file_path': accepted_file_paths,'answer': answers})\n",
    "            answers.append('TIME_LIMIT_REACHED')\n",
    "            accepted_file_paths.append(file_path)\n",
    "\n",
    "        except error.APIConnectionError:\n",
    "            print('Error communicating with OpenAI')\n",
    "\n",
    "            # \n",
    "            answers.append('API_CONNECTION_ERROR')\n",
    "            accepted_file_paths.append(file_path)\n",
    "\n",
    "        finally:\n",
    "            print('Moving on. Waiting for 5 seconds to avoid traffic')\n",
    "            answers_partial = pd.DataFrame({'file_path': accepted_file_paths,'answer': answers})\n",
    "            answers_partial.to_csv('./answers__partial.csv')\n",
    "            time.sleep(5.0)\n",
    "\n",
    "\n",
    "    return pd.DataFrame({'file_path': accepted_file_paths,'answer': answers})\n",
    "            \n",
    "\n",
    "\n"
   ]
  },
  {
   "cell_type": "code",
   "execution_count": 24,
   "metadata": {},
   "outputs": [],
   "source": [
    "# answers__df = identify_text_2(juris__df)"
   ]
  },
  {
   "attachments": {},
   "cell_type": "markdown",
   "metadata": {},
   "source": [
    "## save juris__df as .csv"
   ]
  },
  {
   "cell_type": "code",
   "execution_count": 25,
   "metadata": {},
   "outputs": [],
   "source": [
    "# juris__df.to_csv('./juris__df.csv')"
   ]
  }
 ],
 "metadata": {
  "kernelspec": {
   "display_name": "mldev",
   "language": "python",
   "name": "python3"
  },
  "language_info": {
   "codemirror_mode": {
    "name": "ipython",
    "version": 3
   },
   "file_extension": ".py",
   "mimetype": "text/x-python",
   "name": "python",
   "nbconvert_exporter": "python",
   "pygments_lexer": "ipython3",
   "version": "3.10.11"
  },
  "orig_nbformat": 4
 },
 "nbformat": 4,
 "nbformat_minor": 2
}
