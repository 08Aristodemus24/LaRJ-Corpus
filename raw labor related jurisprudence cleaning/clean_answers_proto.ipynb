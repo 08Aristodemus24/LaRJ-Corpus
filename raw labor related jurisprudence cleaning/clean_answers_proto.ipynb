{
 "cells": [
  {
   "cell_type": "code",
   "execution_count": 1,
   "metadata": {},
   "outputs": [],
   "source": [
    "import pandas as pd\n",
    "import numpy as np\n",
    "import matplotlib.pyplot as plt\n",
    "import os\n",
    "import re\n",
    "\n",
    "from utils.data_visualizers import view_word_frequency\n",
    "\n",
    "%load_ext autoreload\n",
    "%autoreload 2"
   ]
  },
  {
   "attachments": {},
   "cell_type": "markdown",
   "metadata": {},
   "source": [
    "## Merge partial answers of identified jurisprudence by year"
   ]
  },
  {
   "cell_type": "code",
   "execution_count": 2,
   "metadata": {},
   "outputs": [
    {
     "name": "stdout",
     "output_type": "stream",
     "text": [
      "['../raw jurisprudence/answers_1901-1920/answers_1901-1920__partial (2).csv', '../raw jurisprudence/answers_1901-1920/answers_1901-1920__partial.csv', '../raw jurisprudence/answers_1921-1940/answers_1921-1940__partial (2).csv', '../raw jurisprudence/answers_1921-1940/answers_1921-1940__partial.csv', '../raw jurisprudence/answers_1941-1960/answers_1941-1960__partial (2).csv', '../raw jurisprudence/answers_1941-1960/answers_1941-1960__partial.csv', '../raw jurisprudence/answers_1961-1980/answers_1961-1980__partial (2).csv', '../raw jurisprudence/answers_1961-1980/answers_1961-1980__partial.csv', '../raw jurisprudence/answers_1981-1995/answers_1981-1995__partial (2).csv', '../raw jurisprudence/answers_1981-1995/answers_1981-1995__partial.csv', '../raw jurisprudence/answers_1996/answers_1996__partial (2).csv', '../raw jurisprudence/answers_1996/answers_1996__partial.csv', '../raw jurisprudence/answers_1997/answers_1997__partial (2).csv', '../raw jurisprudence/answers_1997/answers_1997__partial.csv', '../raw jurisprudence/answers_1998/answers_1998__partial.csv', '../raw jurisprudence/answers_1999/answers_1999__partial.csv', '../raw jurisprudence/answers_2000/answers_2000__partial.csv', '../raw jurisprudence/answers_2001/answers_2001__partial.csv', '../raw jurisprudence/answers_2002/answers_2002__partial.csv', '../raw jurisprudence/answers_2003/answers_2003__partial.csv', '../raw jurisprudence/answers_2004/answers_2004__partial.csv', '../raw jurisprudence/answers_2005/answers_2005__partial.csv', '../raw jurisprudence/answers_2006/answers_2006__partial.csv', '../raw jurisprudence/answers_2007/answers_2007__partial.csv', '../raw jurisprudence/answers_2008/answers_2008__partial.csv', '../raw jurisprudence/answers_2009/answers_2009__partial.csv', '../raw jurisprudence/answers_2010/answers_2010__partial.csv', '../raw jurisprudence/answers_2011/answers_2011__partial.csv', '../raw jurisprudence/answers_2012/answers_2012__partial.csv', '../raw jurisprudence/answers_2013/answers_2013__partial.csv', '../raw jurisprudence/answers_2014/answers_2014__partial.csv', '../raw jurisprudence/answers_2015/answers_2015__partial (2).csv', '../raw jurisprudence/answers_2015/answers_2015__partial.csv', '../raw jurisprudence/answers_2016/answers_2016__partial (2).csv', '../raw jurisprudence/answers_2016/answers_2016__partial.csv', '../raw jurisprudence/answers_2017/answers_2017__partial (2).csv', '../raw jurisprudence/answers_2017/answers_2017__partial.csv', '../raw jurisprudence/answers_2018/answers_2018__partial.csv', '../raw jurisprudence/answers_2019/answers_2019__partial.csv', '../raw jurisprudence/answers_2020/answers_2020__partial.csv', '../raw jurisprudence/answers_2021/answers_2021__partial.csv']\n"
     ]
    }
   ],
   "source": [
    "\n",
    "\n",
    "years = ['1901-1920', '1921-1940', '1941-1960', '1961-1980', '1981-1995', '1996', '1997',\n",
    " '1998', '1999', '2000', '2001', '2002', '2003', '2004', '2005', '2006', '2007',\n",
    " '2008', '2009', '2010', '2011', '2012', '2013', '2014', '2015', '2016', '2017',\n",
    " '2018', '2019', '2020', '2021']\n",
    "\n",
    "# build paths to use to for pd.read_csv\n",
    "\n",
    "def find_csv_paths(years: list) -> list:\n",
    "    paths = []\n",
    "    for year in years:\n",
    "        try:\n",
    "            path = f'../raw jurisprudence/answers_{year}'\n",
    "            dirs = os.listdir(path)\n",
    "            # print(dirs)\n",
    "\n",
    "            paths.extend([f'{path}/{partial_path}' for partial_path in dirs])\n",
    "        except FileNotFoundError as e:\n",
    "            print(f'FileNotFoundError occured. File {e.filename} does not exist')\n",
    "        finally:\n",
    "            # print('passed')\n",
    "            pass\n",
    "\n",
    "    return paths\n",
    "\n",
    "print(find_csv_paths(years))\n",
    "\n",
    "# answers_1901_1920 = pd.read_csv('../raw jurisprudence/answers_1901-1920/answers_1901-1920__partial.csv (2)')\n",
    "# answers_1901_1920_1 = pd.read_csv('../raw jurisprudence/answers_1901_1920/answers_1901_1920__partial.csv')\n"
   ]
  },
  {
   "cell_type": "code",
   "execution_count": 3,
   "metadata": {},
   "outputs": [
    {
     "name": "stdout",
     "output_type": "stream",
     "text": [
      "(277, 2)\n",
      "(574, 2)\n",
      "(276, 2)\n",
      "(580, 2)\n",
      "(273, 2)\n",
      "(566, 2)\n",
      "(267, 2)\n",
      "(559, 2)\n",
      "(346, 2)\n",
      "(686, 2)\n",
      "(240, 2)\n",
      "(542, 2)\n",
      "(281, 2)\n",
      "(547, 2)\n",
      "(13, 2)\n",
      "(13, 2)\n",
      "(1535, 2)\n",
      "(1363, 2)\n",
      "(483, 2)\n",
      "(1199, 2)\n",
      "(1338, 2)\n",
      "(1521, 2)\n",
      "(1480, 2)\n",
      "(1438, 2)\n",
      "(1451, 2)\n",
      "(1443, 2)\n",
      "(1281, 2)\n",
      "(991, 2)\n",
      "(958, 2)\n",
      "(957, 2)\n",
      "(1027, 2)\n",
      "(964, 2)\n",
      "(25, 2)\n",
      "(1061, 2)\n",
      "(28, 2)\n",
      "(976, 2)\n",
      "(25, 2)\n",
      "(1072, 2)\n",
      "(1087, 2)\n",
      "(859, 2)\n",
      "(20, 2)\n"
     ]
    }
   ],
   "source": [
    "# append all .csv files given paths\n",
    "answers__df = pd.DataFrame(columns=['file_path', 'answer'])\n",
    "total_rows = 0\n",
    "for path in find_csv_paths(years):\n",
    "    temp_answers__df = pd.read_csv(path, index_col=0)\n",
    "    answers__df = pd.concat([answers__df, temp_answers__df.copy()], ignore_index=True)\n",
    "\n",
    "    print(temp_answers__df.shape)\n",
    "    total_rows += temp_answers__df.shape[0]\n",
    "    "
   ]
  },
  {
   "cell_type": "code",
   "execution_count": 4,
   "metadata": {},
   "outputs": [
    {
     "data": {
      "text/plain": [
       "30622"
      ]
     },
     "execution_count": 4,
     "metadata": {},
     "output_type": "execute_result"
    }
   ],
   "source": [
    "total_rows"
   ]
  },
  {
   "cell_type": "code",
   "execution_count": 5,
   "metadata": {},
   "outputs": [
    {
     "data": {
      "text/html": [
       "<div>\n",
       "<style scoped>\n",
       "    .dataframe tbody tr th:only-of-type {\n",
       "        vertical-align: middle;\n",
       "    }\n",
       "\n",
       "    .dataframe tbody tr th {\n",
       "        vertical-align: top;\n",
       "    }\n",
       "\n",
       "    .dataframe thead th {\n",
       "        text-align: right;\n",
       "    }\n",
       "</style>\n",
       "<table border=\"1\" class=\"dataframe\">\n",
       "  <thead>\n",
       "    <tr style=\"text-align: right;\">\n",
       "      <th></th>\n",
       "      <th>file_path</th>\n",
       "      <th>answer</th>\n",
       "    </tr>\n",
       "  </thead>\n",
       "  <tbody>\n",
       "    <tr>\n",
       "      <th>0</th>\n",
       "      <td>d:\\Projects\\To Github\\LaRJ-Corpus\\raw jurispru...</td>\n",
       "      <td>Not labor related.</td>\n",
       "    </tr>\n",
       "    <tr>\n",
       "      <th>1</th>\n",
       "      <td>d:\\Projects\\To Github\\LaRJ-Corpus\\raw jurispru...</td>\n",
       "      <td>TIME_LIMIT_REACHED</td>\n",
       "    </tr>\n",
       "    <tr>\n",
       "      <th>2</th>\n",
       "      <td>d:\\Projects\\To Github\\LaRJ-Corpus\\raw jurispru...</td>\n",
       "      <td>RATE_LIMIT_ERROR</td>\n",
       "    </tr>\n",
       "    <tr>\n",
       "      <th>3</th>\n",
       "      <td>d:\\Projects\\To Github\\LaRJ-Corpus\\raw jurispru...</td>\n",
       "      <td>not labor related</td>\n",
       "    </tr>\n",
       "    <tr>\n",
       "      <th>4</th>\n",
       "      <td>d:\\Projects\\To Github\\LaRJ-Corpus\\raw jurispru...</td>\n",
       "      <td>not labor related</td>\n",
       "    </tr>\n",
       "  </tbody>\n",
       "</table>\n",
       "</div>"
      ],
      "text/plain": [
       "                                           file_path              answer\n",
       "0  d:\\Projects\\To Github\\LaRJ-Corpus\\raw jurispru...  Not labor related.\n",
       "1  d:\\Projects\\To Github\\LaRJ-Corpus\\raw jurispru...  TIME_LIMIT_REACHED\n",
       "2  d:\\Projects\\To Github\\LaRJ-Corpus\\raw jurispru...    RATE_LIMIT_ERROR\n",
       "3  d:\\Projects\\To Github\\LaRJ-Corpus\\raw jurispru...   not labor related\n",
       "4  d:\\Projects\\To Github\\LaRJ-Corpus\\raw jurispru...   not labor related"
      ]
     },
     "execution_count": 5,
     "metadata": {},
     "output_type": "execute_result"
    }
   ],
   "source": [
    "answers__df.head()"
   ]
  },
  {
   "cell_type": "code",
   "execution_count": 6,
   "metadata": {},
   "outputs": [
    {
     "data": {
      "text/html": [
       "<div>\n",
       "<style scoped>\n",
       "    .dataframe tbody tr th:only-of-type {\n",
       "        vertical-align: middle;\n",
       "    }\n",
       "\n",
       "    .dataframe tbody tr th {\n",
       "        vertical-align: top;\n",
       "    }\n",
       "\n",
       "    .dataframe thead th {\n",
       "        text-align: right;\n",
       "    }\n",
       "</style>\n",
       "<table border=\"1\" class=\"dataframe\">\n",
       "  <thead>\n",
       "    <tr style=\"text-align: right;\">\n",
       "      <th></th>\n",
       "      <th>file_path</th>\n",
       "      <th>answer</th>\n",
       "    </tr>\n",
       "  </thead>\n",
       "  <tbody>\n",
       "    <tr>\n",
       "      <th>30617</th>\n",
       "      <td>d:\\Projects\\To Github\\LaRJ-Corpus\\raw jurispru...</td>\n",
       "      <td>not labor related</td>\n",
       "    </tr>\n",
       "    <tr>\n",
       "      <th>30618</th>\n",
       "      <td>d:\\Projects\\To Github\\LaRJ-Corpus\\raw jurispru...</td>\n",
       "      <td>INVALID_REQUEST_ERROR</td>\n",
       "    </tr>\n",
       "    <tr>\n",
       "      <th>30619</th>\n",
       "      <td>d:\\Projects\\To Github\\LaRJ-Corpus\\raw jurispru...</td>\n",
       "      <td>INVALID_REQUEST_ERROR</td>\n",
       "    </tr>\n",
       "    <tr>\n",
       "      <th>30620</th>\n",
       "      <td>d:\\Projects\\To Github\\LaRJ-Corpus\\raw jurispru...</td>\n",
       "      <td>not labor related</td>\n",
       "    </tr>\n",
       "    <tr>\n",
       "      <th>30621</th>\n",
       "      <td>d:\\Projects\\To Github\\LaRJ-Corpus\\raw jurispru...</td>\n",
       "      <td>labor related</td>\n",
       "    </tr>\n",
       "  </tbody>\n",
       "</table>\n",
       "</div>"
      ],
      "text/plain": [
       "                                               file_path  \\\n",
       "30617  d:\\Projects\\To Github\\LaRJ-Corpus\\raw jurispru...   \n",
       "30618  d:\\Projects\\To Github\\LaRJ-Corpus\\raw jurispru...   \n",
       "30619  d:\\Projects\\To Github\\LaRJ-Corpus\\raw jurispru...   \n",
       "30620  d:\\Projects\\To Github\\LaRJ-Corpus\\raw jurispru...   \n",
       "30621  d:\\Projects\\To Github\\LaRJ-Corpus\\raw jurispru...   \n",
       "\n",
       "                      answer  \n",
       "30617      not labor related  \n",
       "30618  INVALID_REQUEST_ERROR  \n",
       "30619  INVALID_REQUEST_ERROR  \n",
       "30620      not labor related  \n",
       "30621          labor related  "
      ]
     },
     "execution_count": 6,
     "metadata": {},
     "output_type": "execute_result"
    }
   ],
   "source": [
    "answers__df.tail()"
   ]
  },
  {
   "attachments": {},
   "cell_type": "markdown",
   "metadata": {},
   "source": [
    "# Clean answers column"
   ]
  },
  {
   "cell_type": "code",
   "execution_count": 7,
   "metadata": {},
   "outputs": [
    {
     "name": "stdout",
     "output_type": "stream",
     "text": [
      "[('API_CONNECTION_ERROR', 9), ('BASED ON THE GIVEN INFORMATION, IT IS NOT POSSIBLE TO DETERMINE WHETHER THIS CASE IS LABOR RELATED OR NOT LABOR RELATED.', 1), ('BASED ON THE GIVEN INFORMATION, THE CASE LAW IS NOT LABOR RELATED.', 1), ('BASED ON THE GIVEN INFORMATION, THIS CASE LAW IS NOT LABOR RELATED.', 1), ('BASED ON THE GIVEN INFORMATION, THIS PIECE OF CASE LAW IS NOT LABOR RELATED.', 1), ('BASED ON THE GIVEN INFORMATION, THIS PIECE OF CASE LAW IS NOT LABOR-RELATED.', 2), ('BASED ON THE GIVEN TEXT, IT IS NOT', 1), ('BASED ON THE INFORMATION PROVIDED, IT IS NOT POSSIBLE TO DETERMINE IF THIS CASE IS LABOR RELATED OR NOT LABOR RELATED.', 1), ('BASED ON THE INFORMATION PROVIDED, IT IS NOT POSSIBLE TO DETERMINE WHETHER THIS PIECE OF CASE LAW IS LABOR RELATED OR NOT LABOR RELATED.', 1), ('BASED ON THE INFORMATION PROVIDED, THE CASE IS NOT LABOR-RELATED.', 1), ('BASED ON THE INFORMATION PROVIDED, THE PIECE OF CASE LAW IS \"NOT LABOR RELATED.\"', 1), ('BASED ON THE INFORMATION PROVIDED, THIS CASE IS', 1), ('BASED ON THE INFORMATION PROVIDED, THIS PIECE OF CASE LAW IS NOT LABOR RELATED.', 1), ('BASED ON THE PROVIDED INFORMATION, THE CASE LAW IS NOT LABOR-RELATED.', 1), (\"I'M SORRY, BUT I CANNOT ANSWER YOUR REQUEST AS IT IS NOT CLEAR WHAT SPECIFIC CASE LAW YOU ARE REFERRING TO.\", 1), ('IN THIS CASE, THE SUBJECT MATTER OF THE CASE DOES NOT APPEAR TO BE LABOR-RELATED.', 1), ('INVALID_REQUEST_ERROR', 4337), ('IT IS NOT LABOR RELATED.', 1), ('IT IS NOT MENTIONED WHETHER THIS CASE IS LABOR-RELATED OR NOT LABOR-RELATED.', 1), ('L', 1), ('LABOR RELATED', 3494), ('LABOR RELATED.', 558), ('LABOR-RELATED', 9), ('LABOR-RELATED.', 1), ('LABOUR RELATED', 4), ('NON-LABOR RELATED.', 1), ('NOT', 17), ('NOT LABOR', 19), ('NOT LABOR RELATED', 15583), ('NOT LABOR RELATED.', 2953), ('NOT LABOR-RELATED', 11), ('NOT LABOR-RELATED.', 4), ('NOT LABORRELATED', 1), ('RATE_LIMIT_ERROR', 1971), ('SERVICE_UNAVAILABLE_ERROR', 164), ('THE', 1), ('THE ABOVE PIECE OF CASE LAW IS NOT LABOR RELATED.', 1), ('THE CASE DISCUSSED IN THIS DECISION IS NOT LABOR-RELATED.', 1), ('THE CASE IS NOT LABOR RELATED.', 2), ('THE CASE LAW DESCRIBED IN THE GIVEN TEXT IS NOT LABOR RELATED.', 1), ('THE CASE LAW DISCUSSED IN THE GIVEN TEXT IS NOT LABOR RELATED.', 1), ('THE CASE LAW DISCUSSED IS LABOR RELATED.', 1), ('THE CASE LAW IS LABOR RELATED.', 1), ('THE CASE LAW IS NOT LABOR RELATED.', 13), ('THE CASE LAW IS NOT LABOR-RELATED.', 1), ('THE CASE LAW MENTIONED IN THE GIVEN TEXT IS NOT LABOR-RELATED.', 2), ('THE CASE LAW MENTIONED IN THE PASSAGE IS NOT LABOR RELATED.', 1), ('THE CASE LAW PROVIDED DOES NOT APPEAR TO BE SPECIFICALLY LABOR RELATED.', 1), ('THE CASE LAW PROVIDED IS LABOR RELATED.', 1), ('THE CASE LAW PROVIDED IS NOT LABOR RELATED.', 7), ('THE CASE LAW PROVIDED IS NOT LABOR-RELATED.', 4), ('THE GIVEN CASE IS NOT LABOR RELATED.', 1), ('THE GIVEN CASE LAW IS LABOR RELATED.', 1), ('THE GIVEN CASE LAW IS NOT LABOR RELATED.', 16), ('THE GIVEN CASE LAW IS NOT LABOR-RELATED.', 4), ('THE GIVEN PIECE OF CASE LAW DOES NOT APPEAR TO BE LABOR-RELATED.', 1), ('THE GIVEN PIECE OF CASE LAW IS \"NOT LABOR RELATED.\"', 1), ('THE GIVEN PIECE OF CASE LAW IS LABOR RELATED.', 2), ('THE GIVEN PIECE OF CASE LAW IS LABOR-RELATED.', 1), ('THE GIVEN PIECE OF CASE LAW IS NOT LABOR RELATED.', 15), ('THE GIVEN PIECE OF CASE LAW IS NOT LABOR-RELATED.', 1), (\"THE GIVEN TEXT IS A DECISION OF THE COURT OF APPEALS IN A CASE INVOLVING A PETITIONER NAMED FERNANDO A. MELENDRES AND RESPONDENTS OMBUDSMAN MA. MERCEDITAS N. GUTIERREZ AND JOSE PEPITO M. AMORES, M.D. THE PETITIONER FILED A PETITION FOR REVIEW ON CERTIORARI, CHALLENGING THE RESOLUTIONS OF THE COURT OF APPEALS WHICH DISMISSED HIS APPEAL FOR FAILURE TO COMPLY WITH THE COURT'S DIRECTIVE TO SUBMIT VARIOUS DOCUMENTS. THE CASE REVOLVES AROUND THE MISAPPROPRIATION OF FUNDS FOR THE REHABILITATION OF THE LUNG CENTER OF THE PHILIPPINES. THE OMBUDSMAN FOUND THE PETITIONER\", 1), ('THE INFORMATION PROVIDED DOES NOT CLEARLY INDICATE WHETHER THIS CASE LAW IS LABOR RELATED OR NOT LABOR RELATED.', 1), ('THE MENTIONED PIECE OF CASE LAW IS NOT LABOR RELATED.', 1), ('THE PIECE OF CASE LAW DESCRIBED IS NOT LABOR RELATED.', 1), ('THE PIECE OF CASE LAW DISCUSSED ABOVE IS NOT LABOR RELATED.', 1), ('THE PIECE OF CASE LAW IS \"LABOR RELATED.\"', 1), ('THE PIECE OF CASE LAW IS LABOR RELATED.', 11), ('THE PIECE OF CASE LAW IS NOT LABOR RELATED.', 12), ('THE PIECE OF CASE LAW MENTIONED ABOVE IS NOT LABOR-RELATED.', 1), ('THE PIECE OF CASE LAW MENTIONED IN THE GIVEN EXCERPT IS NOT LABOR RELATED.', 1), ('THE PIECE OF CASE LAW MENTIONED IS NOT LABOR RELATED.', 2), ('THE PIECE OF CASE LAW MENTIONED, GAS CORPORATION OF THE PHILIPPINES V. INCIONG, IS NOT LABOR RELATED.', 1), ('THE PIECE OF CASE LAW PROVIDED DOES NOT APPEAR TO BE LABOR RELATED.', 1), ('THE PIECE OF CASE LAW PROVIDED IS NOT LABOR RELATED.', 5), ('THE PIECE OF CASE LAW PROVIDED IS NOT LABOR-RELATED.', 2), ('THE PRESENTED CASE LAW IS LABOR RELATED.', 1), ('THE PRESENTED CASE LAW IS NOT LABOR RELATED.', 1), ('THE PROVIDED CASE IS NOT LABOR RELATED.', 2), ('THE PROVIDED CASE LAW DOES NOT APPEAR TO BE LABOR RELATED.', 1), ('THE PROVIDED CASE LAW IS NOT LABOR', 1), ('THE PROVIDED CASE LAW IS NOT LABOR RELATED.', 24), ('THE PROVIDED CASE LAW IS NOT LABOR-RELATED.', 6), ('THE PROVIDED EXCERPT IS NOT LABOR RELATED.', 1), ('THE PROVIDED INFORMATION IS NOT RELATED TO LABOR.', 1), ('THE PROVIDED PIECE OF CASE LAW IS NOT LABOR RELATED.', 3), ('THE PROVIDED PIECE OF CASE LAW IS NOT LABOR-RELATED.', 1), ('THE PROVIDED TEXT IS NOT LABOR RELATED.', 1), ('THE TEXT PROVIDED IS NOT LABOR RELATED.', 1), ('THIS', 1), ('THIS CASE DOES NOT APPEAR TO BE LABOR-RELATED.', 1), ('THIS CASE IS \"NOT LABOR RELATED.\"', 3), ('THIS CASE IS LABOR RELATED.', 4), ('THIS CASE IS NOT LABOR RELATED.', 74), ('THIS CASE IS NOT LABOR-RELATED.', 13), ('THIS CASE LAW APPEARS TO BE \"NOT LABOR RELATED.\"', 1), ('THIS CASE LAW APPEARS TO BE NOT LABOR RELATED.', 1), ('THIS CASE LAW IS', 1), ('THIS CASE LAW IS \"NOT LABOR RELATED.\"', 4), ('THIS CASE LAW IS LABOR RELATED.', 39), ('THIS CASE LAW IS NOT LABOR RELATED.', 353), ('THIS CASE LAW IS NOT LABOR-RELATED.', 33), ('THIS IS NOT A LABOR-RELATED CASE.', 1), ('THIS IS NOT LABOR RELATED.', 1), ('THIS PIECE OF CASE', 2), ('THIS PIECE OF CASE LAW APPEARS TO BE NOT LABOR RELATED.', 1), ('THIS PIECE OF CASE LAW DOES NOT APPEAR TO BE LABOR RELATED.', 1), ('THIS PIECE OF CASE LAW IS \"LABOR RELATED\".', 2), ('THIS PIECE OF CASE LAW IS \"NOT LABOR RELATED\".', 1), ('THIS PIECE OF CASE LAW IS \"NOT LABOR RELATED.\"', 4), ('THIS PIECE OF CASE LAW IS LABOR RELATED.', 95), ('THIS PIECE OF CASE LAW IS LABOR-RELATED.', 2), ('THIS PIECE OF CASE LAW IS NOT', 1), ('THIS PIECE OF CASE LAW IS NOT LABOR', 1), ('THIS PIECE OF CASE LAW IS NOT LABOR RELATED', 1), ('THIS PIECE OF CASE LAW IS NOT LABOR RELATED.', 343), ('THIS PIECE OF CASE LAW IS NOT LABOR-RELATED.', 32), ('THIS PIECE OF CASE LAW IS NOT RELATED TO LABOR.', 1), ('TIME_LIMIT_REACHED', 282)]\n"
     ]
    }
   ],
   "source": [
    "# convert to uppercase\n",
    "answers__df['answer'] = answers__df['answer'].apply(lambda answer: answer.upper())\n",
    "unique, counts = np.unique(answers__df['answer'], return_counts=True)\n",
    "res = list(zip(unique, counts))\n",
    "print(res, sep='A')"
   ]
  },
  {
   "cell_type": "code",
   "execution_count": 8,
   "metadata": {},
   "outputs": [
    {
     "name": "stdout",
     "output_type": "stream",
     "text": [
      "[('API_CONNECTION_ERROR', 9), ('BASED ON THE GIVEN INFORMATION  IT IS NOT POSSIBLE TO DETERMINE WHETHER THIS CASE IS LABOR RELATED OR NOT LABOR RELATED ', 1), ('BASED ON THE GIVEN INFORMATION  THE CASE LAW IS NOT LABOR RELATED ', 1), ('BASED ON THE GIVEN INFORMATION  THIS CASE LAW IS NOT LABOR RELATED ', 1), ('BASED ON THE GIVEN INFORMATION  THIS PIECE OF CASE LAW IS NOT LABOR RELATED ', 3), ('BASED ON THE GIVEN TEXT  IT IS NOT', 1), ('BASED ON THE INFORMATION PROVIDED  IT IS NOT POSSIBLE TO DETERMINE IF THIS CASE IS LABOR RELATED OR NOT LABOR RELATED ', 1), ('BASED ON THE INFORMATION PROVIDED  IT IS NOT POSSIBLE TO DETERMINE WHETHER THIS PIECE OF CASE LAW IS LABOR RELATED OR NOT LABOR RELATED ', 1), ('BASED ON THE INFORMATION PROVIDED  THE CASE IS NOT LABOR RELATED ', 1), ('BASED ON THE INFORMATION PROVIDED  THE PIECE OF CASE LAW IS  NOT LABOR RELATED  ', 1), ('BASED ON THE INFORMATION PROVIDED  THIS CASE IS', 1), ('BASED ON THE INFORMATION PROVIDED  THIS PIECE OF CASE LAW IS NOT LABOR RELATED ', 1), ('BASED ON THE PROVIDED INFORMATION  THE CASE LAW IS NOT LABOR RELATED ', 1), ('I M SORRY  BUT I CANNOT ANSWER YOUR REQUEST AS IT IS NOT CLEAR WHAT SPECIFIC CASE LAW YOU ARE REFERRING TO ', 1), ('IN THIS CASE  THE SUBJECT MATTER OF THE CASE DOES NOT APPEAR TO BE LABOR RELATED ', 1), ('INVALID_REQUEST_ERROR', 4337), ('IT IS NOT LABOR RELATED ', 1), ('IT IS NOT MENTIONED WHETHER THIS CASE IS LABOR RELATED OR NOT LABOR RELATED ', 1), ('L', 1), ('LABOR RELATED', 3503), ('LABOR RELATED ', 559), ('LABOUR RELATED', 4), ('NON LABOR RELATED ', 1), ('NOT', 17), ('NOT LABOR', 19), ('NOT LABOR RELATED', 15594), ('NOT LABOR RELATED ', 2957), ('NOT LABORRELATED', 1), ('RATE_LIMIT_ERROR', 1971), ('SERVICE_UNAVAILABLE_ERROR', 164), ('THE', 1), ('THE ABOVE PIECE OF CASE LAW IS NOT LABOR RELATED ', 1), ('THE CASE DISCUSSED IN THIS DECISION IS NOT LABOR RELATED ', 1), ('THE CASE IS NOT LABOR RELATED ', 2), ('THE CASE LAW DESCRIBED IN THE GIVEN TEXT IS NOT LABOR RELATED ', 1), ('THE CASE LAW DISCUSSED IN THE GIVEN TEXT IS NOT LABOR RELATED ', 1), ('THE CASE LAW DISCUSSED IS LABOR RELATED ', 1), ('THE CASE LAW IS LABOR RELATED ', 1), ('THE CASE LAW IS NOT LABOR RELATED ', 14), ('THE CASE LAW MENTIONED IN THE GIVEN TEXT IS NOT LABOR RELATED ', 2), ('THE CASE LAW MENTIONED IN THE PASSAGE IS NOT LABOR RELATED ', 1), ('THE CASE LAW PROVIDED DOES NOT APPEAR TO BE SPECIFICALLY LABOR RELATED ', 1), ('THE CASE LAW PROVIDED IS LABOR RELATED ', 1), ('THE CASE LAW PROVIDED IS NOT LABOR RELATED ', 11), ('THE GIVEN CASE IS NOT LABOR RELATED ', 1), ('THE GIVEN CASE LAW IS LABOR RELATED ', 1), ('THE GIVEN CASE LAW IS NOT LABOR RELATED ', 20), ('THE GIVEN PIECE OF CASE LAW DOES NOT APPEAR TO BE LABOR RELATED ', 1), ('THE GIVEN PIECE OF CASE LAW IS  NOT LABOR RELATED  ', 1), ('THE GIVEN PIECE OF CASE LAW IS LABOR RELATED ', 3), ('THE GIVEN PIECE OF CASE LAW IS NOT LABOR RELATED ', 16), ('THE GIVEN TEXT IS A DECISION OF THE COURT OF APPEALS IN A CASE INVOLVING A PETITIONER NAMED FERNANDO A  MELENDRES AND RESPONDENTS OMBUDSMAN MA  MERCEDITAS N  GUTIERREZ AND JOSE PEPITO M  AMORES  M D  THE PETITIONER FILED A PETITION FOR REVIEW ON CERTIORARI  CHALLENGING THE RESOLUTIONS OF THE COURT OF APPEALS WHICH DISMISSED HIS APPEAL FOR FAILURE TO COMPLY WITH THE COURT S DIRECTIVE TO SUBMIT VARIOUS DOCUMENTS  THE CASE REVOLVES AROUND THE MISAPPROPRIATION OF FUNDS FOR THE REHABILITATION OF THE LUNG CENTER OF THE PHILIPPINES  THE OMBUDSMAN FOUND THE PETITIONER', 1), ('THE INFORMATION PROVIDED DOES NOT CLEARLY INDICATE WHETHER THIS CASE LAW IS LABOR RELATED OR NOT LABOR RELATED ', 1), ('THE MENTIONED PIECE OF CASE LAW IS NOT LABOR RELATED ', 1), ('THE PIECE OF CASE LAW DESCRIBED IS NOT LABOR RELATED ', 1), ('THE PIECE OF CASE LAW DISCUSSED ABOVE IS NOT LABOR RELATED ', 1), ('THE PIECE OF CASE LAW IS  LABOR RELATED  ', 1), ('THE PIECE OF CASE LAW IS LABOR RELATED ', 11), ('THE PIECE OF CASE LAW IS NOT LABOR RELATED ', 12), ('THE PIECE OF CASE LAW MENTIONED  GAS CORPORATION OF THE PHILIPPINES V  INCIONG  IS NOT LABOR RELATED ', 1), ('THE PIECE OF CASE LAW MENTIONED ABOVE IS NOT LABOR RELATED ', 1), ('THE PIECE OF CASE LAW MENTIONED IN THE GIVEN EXCERPT IS NOT LABOR RELATED ', 1), ('THE PIECE OF CASE LAW MENTIONED IS NOT LABOR RELATED ', 2), ('THE PIECE OF CASE LAW PROVIDED DOES NOT APPEAR TO BE LABOR RELATED ', 1), ('THE PIECE OF CASE LAW PROVIDED IS NOT LABOR RELATED ', 7), ('THE PRESENTED CASE LAW IS LABOR RELATED ', 1), ('THE PRESENTED CASE LAW IS NOT LABOR RELATED ', 1), ('THE PROVIDED CASE IS NOT LABOR RELATED ', 2), ('THE PROVIDED CASE LAW DOES NOT APPEAR TO BE LABOR RELATED ', 1), ('THE PROVIDED CASE LAW IS NOT LABOR', 1), ('THE PROVIDED CASE LAW IS NOT LABOR RELATED ', 30), ('THE PROVIDED EXCERPT IS NOT LABOR RELATED ', 1), ('THE PROVIDED INFORMATION IS NOT RELATED TO LABOR ', 1), ('THE PROVIDED PIECE OF CASE LAW IS NOT LABOR RELATED ', 4), ('THE PROVIDED TEXT IS NOT LABOR RELATED ', 1), ('THE TEXT PROVIDED IS NOT LABOR RELATED ', 1), ('THIS', 1), ('THIS CASE DOES NOT APPEAR TO BE LABOR RELATED ', 1), ('THIS CASE IS  NOT LABOR RELATED  ', 3), ('THIS CASE IS LABOR RELATED ', 4), ('THIS CASE IS NOT LABOR RELATED ', 87), ('THIS CASE LAW APPEARS TO BE  NOT LABOR RELATED  ', 1), ('THIS CASE LAW APPEARS TO BE NOT LABOR RELATED ', 1), ('THIS CASE LAW IS', 1), ('THIS CASE LAW IS  NOT LABOR RELATED  ', 4), ('THIS CASE LAW IS LABOR RELATED ', 39), ('THIS CASE LAW IS NOT LABOR RELATED ', 386), ('THIS IS NOT A LABOR RELATED CASE ', 1), ('THIS IS NOT LABOR RELATED ', 1), ('THIS PIECE OF CASE', 2), ('THIS PIECE OF CASE LAW APPEARS TO BE NOT LABOR RELATED ', 1), ('THIS PIECE OF CASE LAW DOES NOT APPEAR TO BE LABOR RELATED ', 1), ('THIS PIECE OF CASE LAW IS  LABOR RELATED  ', 2), ('THIS PIECE OF CASE LAW IS  NOT LABOR RELATED  ', 5), ('THIS PIECE OF CASE LAW IS LABOR RELATED ', 97), ('THIS PIECE OF CASE LAW IS NOT', 1), ('THIS PIECE OF CASE LAW IS NOT LABOR', 1), ('THIS PIECE OF CASE LAW IS NOT LABOR RELATED', 1), ('THIS PIECE OF CASE LAW IS NOT LABOR RELATED ', 375), ('THIS PIECE OF CASE LAW IS NOT RELATED TO LABOR ', 1), ('TIME_LIMIT_REACHED', 282)]\n"
     ]
    }
   ],
   "source": [
    "# remove all non alpha numeric characters and preserve whitespace\n",
    "answers__df['answer'] = answers__df['answer'].apply(lambda answer: re.sub(r'[^a-zA-Z0-9_\\s]', ' ', answer))\n",
    "unique, counts = np.unique(answers__df['answer'], return_counts=True)\n",
    "print(list(zip(unique, counts)), sep='\\n')"
   ]
  },
  {
   "cell_type": "code",
   "execution_count": 9,
   "metadata": {},
   "outputs": [
    {
     "name": "stdout",
     "output_type": "stream",
     "text": [
      "[('API_CONNECTION_ERROR', 9), ('BASED ON THE INFORMATION PROVIDED  THIS CASE IS', 1), ('INVALID_REQUEST_ERROR', 4337), ('L', 1), ('LABOR RELATED', 3503), ('LABOR RELATED ', 559), ('LABOUR RELATED', 4), ('NOT LABOR RELATED', 19623), ('RATE_LIMIT_ERROR', 1971), ('SERVICE_UNAVAILABLE_ERROR', 164), ('THE', 1), ('THE CASE LAW DISCUSSED IS LABOR RELATED ', 1), ('THE CASE LAW IS LABOR RELATED ', 1), ('THE CASE LAW PROVIDED IS LABOR RELATED ', 1), ('THE GIVEN CASE LAW IS LABOR RELATED ', 1), ('THE GIVEN PIECE OF CASE LAW IS LABOR RELATED ', 3), ('THE GIVEN TEXT IS A DECISION OF THE COURT OF APPEALS IN A CASE INVOLVING A PETITIONER NAMED FERNANDO A  MELENDRES AND RESPONDENTS OMBUDSMAN MA  MERCEDITAS N  GUTIERREZ AND JOSE PEPITO M  AMORES  M D  THE PETITIONER FILED A PETITION FOR REVIEW ON CERTIORARI  CHALLENGING THE RESOLUTIONS OF THE COURT OF APPEALS WHICH DISMISSED HIS APPEAL FOR FAILURE TO COMPLY WITH THE COURT S DIRECTIVE TO SUBMIT VARIOUS DOCUMENTS  THE CASE REVOLVES AROUND THE MISAPPROPRIATION OF FUNDS FOR THE REHABILITATION OF THE LUNG CENTER OF THE PHILIPPINES  THE OMBUDSMAN FOUND THE PETITIONER', 1), ('THE PIECE OF CASE LAW IS  LABOR RELATED  ', 1), ('THE PIECE OF CASE LAW IS LABOR RELATED ', 11), ('THE PRESENTED CASE LAW IS LABOR RELATED ', 1), ('THIS', 1), ('THIS CASE IS LABOR RELATED ', 4), ('THIS CASE LAW IS', 1), ('THIS CASE LAW IS LABOR RELATED ', 39), ('THIS PIECE OF CASE', 2), ('THIS PIECE OF CASE LAW IS  LABOR RELATED  ', 2), ('THIS PIECE OF CASE LAW IS LABOR RELATED ', 97), ('TIME_LIMIT_REACHED', 282)]\n"
     ]
    }
   ],
   "source": [
    "# in all occurences of NOT or NON replace instead with NOT LABOR RELATED\n",
    "answers__df['answer'] = answers__df['answer'].apply(lambda answer: 'NOT LABOR RELATED' if (('NOT' in answer) or ('NON' in answer)) else answer)\n",
    "unique, counts = np.unique(answers__df['answer'], return_counts=True)\n",
    "print(list(zip(unique, counts)), sep='\\n')"
   ]
  },
  {
   "cell_type": "code",
   "execution_count": 10,
   "metadata": {},
   "outputs": [
    {
     "name": "stdout",
     "output_type": "stream",
     "text": [
      "[('API_CONNECTION_ERROR', 9), ('BASED ON THE INFORMATION PROVIDED  THIS CASE IS', 1), ('INVALID_REQUEST_ERROR', 4337), ('L', 1), ('LABOR RELATED', 4228), ('NOT LABOR RELATED', 19623), ('RATE_LIMIT_ERROR', 1971), ('SERVICE_UNAVAILABLE_ERROR', 164), ('THE', 1), ('THE GIVEN TEXT IS A DECISION OF THE COURT OF APPEALS IN A CASE INVOLVING A PETITIONER NAMED FERNANDO A  MELENDRES AND RESPONDENTS OMBUDSMAN MA  MERCEDITAS N  GUTIERREZ AND JOSE PEPITO M  AMORES  M D  THE PETITIONER FILED A PETITION FOR REVIEW ON CERTIORARI  CHALLENGING THE RESOLUTIONS OF THE COURT OF APPEALS WHICH DISMISSED HIS APPEAL FOR FAILURE TO COMPLY WITH THE COURT S DIRECTIVE TO SUBMIT VARIOUS DOCUMENTS  THE CASE REVOLVES AROUND THE MISAPPROPRIATION OF FUNDS FOR THE REHABILITATION OF THE LUNG CENTER OF THE PHILIPPINES  THE OMBUDSMAN FOUND THE PETITIONER', 1), ('THIS', 1), ('THIS CASE LAW IS', 1), ('THIS PIECE OF CASE', 2), ('TIME_LIMIT_REACHED', 282)]\n"
     ]
    }
   ],
   "source": [
    "# if there are no occurences of NOT replace with and has occurence of LABOR RELATED or LABOUR RELATED replace with LABOR RELATED\n",
    "answers__df['answer'] = answers__df['answer'].apply(lambda answer: 'LABOR RELATED' if not ('NOT' in answer) and (('LABOUR RELATED' in answer) or ('LABOR RELATED' in answer)) else answer)\n",
    "unique, counts = np.unique(answers__df['answer'], return_counts=True)\n",
    "print(list(zip(unique, counts)), sep='\\n')"
   ]
  },
  {
   "cell_type": "code",
   "execution_count": 11,
   "metadata": {},
   "outputs": [
    {
     "name": "stdout",
     "output_type": "stream",
     "text": [
      "[('API_CONNECTION_ERROR', 9), ('BASED ON THE INFORMATION PROVIDED  THIS CASE IS', 1), ('INVALID_REQUEST_ERROR', 4337), ('L', 1), ('LABOR RELATED', 4228), ('NOT LABOR RELATED', 19623), ('RATE_LIMIT_ERROR', 1971), ('SERVICE_UNAVAILABLE_ERROR', 164), ('THE', 1), ('THE GIVEN TEXT IS A DECISION OF THE COURT OF APPEA', 1), ('THIS', 1), ('THIS CASE LAW IS', 1), ('THIS PIECE OF CASE', 2), ('TIME_LIMIT_REACHED', 282)]\n"
     ]
    }
   ],
   "source": [
    "# if there are strings longer than 50 characters cut it short\n",
    "answers__df['answer'] = answers__df['answer'].apply(lambda answer: answer[:50] if len(answer) > 50 else answer)\n",
    "unique, counts = np.unique(answers__df['answer'], return_counts=True)\n",
    "print(list(zip(unique, counts)), sep='\\n')"
   ]
  },
  {
   "cell_type": "code",
   "execution_count": 12,
   "metadata": {},
   "outputs": [
    {
     "name": "stdout",
     "output_type": "stream",
     "text": [
      "[('API_CONNECTION_ERROR', 9), ('BASED ON THE INFORMATION PROVIDED  THIS CASE IS', 1), ('INVALID_REQUEST_ERROR', 4337), ('L', 1), ('LABOR RELATED', 4228), ('NOT LABOR RELATED', 19623), ('RATE_LIMIT_ERROR', 1971), ('SERVICE_UNAVAILABLE_ERROR', 164), ('THE', 1), ('THE GIVEN TEXT IS A DECISION OF THE COURT OF APPEA', 1), ('THIS', 1), ('THIS CASE LAW IS', 1), ('THIS PIECE OF CASE', 2), ('TIME_LIMIT_REACHED', 282)]\n"
     ]
    }
   ],
   "source": [
    "# remove beginning and trailing spaces\n",
    "answers__df['answer'] = answers__df['answer'].apply(lambda answer: answer.strip())\n",
    "unique, counts = np.unique(answers__df['answer'], return_counts=True)\n",
    "print(list(zip(unique, counts)), sep='\\n')"
   ]
  },
  {
   "cell_type": "code",
   "execution_count": 13,
   "metadata": {},
   "outputs": [],
   "source": [
    "# remove all other substrings other than the ff:\n",
    "# included = ['NOT LABOR RELATED', 'LABOR RELATED', 'RATE_LIMIT_ERROR', 'TIMEOUT_ERROR', 'SERVICE_UNAVAILABLE_ERROR', 'INVALID_REQUEST_ERROR', 'TIME_LIMIT_REACHED', 'API_CONNECTION_ERROR']\n",
    "# regex = lambda to_remove: r\"(\" + \"\".join([\"{}|\" for _ in range(len(to_remove) - 1)]) + \"{})\" if included != [] else \"\""
   ]
  },
  {
   "cell_type": "code",
   "execution_count": 14,
   "metadata": {},
   "outputs": [
    {
     "data": {
      "text/html": [
       "<div>\n",
       "<style scoped>\n",
       "    .dataframe tbody tr th:only-of-type {\n",
       "        vertical-align: middle;\n",
       "    }\n",
       "\n",
       "    .dataframe tbody tr th {\n",
       "        vertical-align: top;\n",
       "    }\n",
       "\n",
       "    .dataframe thead th {\n",
       "        text-align: right;\n",
       "    }\n",
       "</style>\n",
       "<table border=\"1\" class=\"dataframe\">\n",
       "  <thead>\n",
       "    <tr style=\"text-align: right;\">\n",
       "      <th></th>\n",
       "      <th>file_path</th>\n",
       "      <th>answer</th>\n",
       "    </tr>\n",
       "  </thead>\n",
       "  <tbody>\n",
       "    <tr>\n",
       "      <th>0</th>\n",
       "      <td>d:\\Projects\\To Github\\LaRJ-Corpus\\raw jurispru...</td>\n",
       "      <td>NOT LABOR RELATED</td>\n",
       "    </tr>\n",
       "    <tr>\n",
       "      <th>1</th>\n",
       "      <td>d:\\Projects\\To Github\\LaRJ-Corpus\\raw jurispru...</td>\n",
       "      <td>TIME_LIMIT_REACHED</td>\n",
       "    </tr>\n",
       "    <tr>\n",
       "      <th>2</th>\n",
       "      <td>d:\\Projects\\To Github\\LaRJ-Corpus\\raw jurispru...</td>\n",
       "      <td>RATE_LIMIT_ERROR</td>\n",
       "    </tr>\n",
       "    <tr>\n",
       "      <th>3</th>\n",
       "      <td>d:\\Projects\\To Github\\LaRJ-Corpus\\raw jurispru...</td>\n",
       "      <td>NOT LABOR RELATED</td>\n",
       "    </tr>\n",
       "    <tr>\n",
       "      <th>4</th>\n",
       "      <td>d:\\Projects\\To Github\\LaRJ-Corpus\\raw jurispru...</td>\n",
       "      <td>NOT LABOR RELATED</td>\n",
       "    </tr>\n",
       "    <tr>\n",
       "      <th>...</th>\n",
       "      <td>...</td>\n",
       "      <td>...</td>\n",
       "    </tr>\n",
       "    <tr>\n",
       "      <th>30617</th>\n",
       "      <td>d:\\Projects\\To Github\\LaRJ-Corpus\\raw jurispru...</td>\n",
       "      <td>NOT LABOR RELATED</td>\n",
       "    </tr>\n",
       "    <tr>\n",
       "      <th>30618</th>\n",
       "      <td>d:\\Projects\\To Github\\LaRJ-Corpus\\raw jurispru...</td>\n",
       "      <td>INVALID_REQUEST_ERROR</td>\n",
       "    </tr>\n",
       "    <tr>\n",
       "      <th>30619</th>\n",
       "      <td>d:\\Projects\\To Github\\LaRJ-Corpus\\raw jurispru...</td>\n",
       "      <td>INVALID_REQUEST_ERROR</td>\n",
       "    </tr>\n",
       "    <tr>\n",
       "      <th>30620</th>\n",
       "      <td>d:\\Projects\\To Github\\LaRJ-Corpus\\raw jurispru...</td>\n",
       "      <td>NOT LABOR RELATED</td>\n",
       "    </tr>\n",
       "    <tr>\n",
       "      <th>30621</th>\n",
       "      <td>d:\\Projects\\To Github\\LaRJ-Corpus\\raw jurispru...</td>\n",
       "      <td>LABOR RELATED</td>\n",
       "    </tr>\n",
       "  </tbody>\n",
       "</table>\n",
       "<p>30622 rows × 2 columns</p>\n",
       "</div>"
      ],
      "text/plain": [
       "                                               file_path  \\\n",
       "0      d:\\Projects\\To Github\\LaRJ-Corpus\\raw jurispru...   \n",
       "1      d:\\Projects\\To Github\\LaRJ-Corpus\\raw jurispru...   \n",
       "2      d:\\Projects\\To Github\\LaRJ-Corpus\\raw jurispru...   \n",
       "3      d:\\Projects\\To Github\\LaRJ-Corpus\\raw jurispru...   \n",
       "4      d:\\Projects\\To Github\\LaRJ-Corpus\\raw jurispru...   \n",
       "...                                                  ...   \n",
       "30617  d:\\Projects\\To Github\\LaRJ-Corpus\\raw jurispru...   \n",
       "30618  d:\\Projects\\To Github\\LaRJ-Corpus\\raw jurispru...   \n",
       "30619  d:\\Projects\\To Github\\LaRJ-Corpus\\raw jurispru...   \n",
       "30620  d:\\Projects\\To Github\\LaRJ-Corpus\\raw jurispru...   \n",
       "30621  d:\\Projects\\To Github\\LaRJ-Corpus\\raw jurispru...   \n",
       "\n",
       "                      answer  \n",
       "0          NOT LABOR RELATED  \n",
       "1         TIME_LIMIT_REACHED  \n",
       "2           RATE_LIMIT_ERROR  \n",
       "3          NOT LABOR RELATED  \n",
       "4          NOT LABOR RELATED  \n",
       "...                      ...  \n",
       "30617      NOT LABOR RELATED  \n",
       "30618  INVALID_REQUEST_ERROR  \n",
       "30619  INVALID_REQUEST_ERROR  \n",
       "30620      NOT LABOR RELATED  \n",
       "30621          LABOR RELATED  \n",
       "\n",
       "[30622 rows x 2 columns]"
      ]
     },
     "execution_count": 14,
     "metadata": {},
     "output_type": "execute_result"
    }
   ],
   "source": [
    "answers__df"
   ]
  },
  {
   "cell_type": "code",
   "execution_count": 15,
   "metadata": {},
   "outputs": [],
   "source": [
    "# regex(included)"
   ]
  },
  {
   "cell_type": "code",
   "execution_count": 16,
   "metadata": {},
   "outputs": [],
   "source": [
    "# for index in range(total_rows):\n",
    "#     print(answers__df.iloc[index])"
   ]
  },
  {
   "cell_type": "code",
   "execution_count": 17,
   "metadata": {},
   "outputs": [
    {
     "name": "stdout",
     "output_type": "stream",
     "text": [
      "NOT LABOR RELATED                                     19623\n",
      "INVALID_REQUEST_ERROR                                  4337\n",
      "LABOR RELATED                                          4228\n",
      "RATE_LIMIT_ERROR                                       1971\n",
      "TIME_LIMIT_REACHED                                      282\n",
      "SERVICE_UNAVAILABLE_ERROR                               164\n",
      "API_CONNECTION_ERROR                                      9\n",
      "THIS PIECE OF CASE                                        2\n",
      "L                                                         1\n",
      "THIS CASE LAW IS                                          1\n",
      "BASED ON THE INFORMATION PROVIDED  THIS CASE IS           1\n",
      "THIS                                                      1\n",
      "THE                                                       1\n",
      "THE GIVEN TEXT IS A DECISION OF THE COURT OF APPEA        1\n",
      "Name: answer, dtype: int64\n"
     ]
    }
   ],
   "source": [
    "answer_counts = answers__df['answer'].value_counts()\n",
    "print(answer_counts)"
   ]
  },
  {
   "cell_type": "code",
   "execution_count": 18,
   "metadata": {},
   "outputs": [
    {
     "data": {
      "text/plain": [
       "(14,)"
      ]
     },
     "execution_count": 18,
     "metadata": {},
     "output_type": "execute_result"
    }
   ],
   "source": [
    "answer_counts.shape"
   ]
  },
  {
   "cell_type": "code",
   "execution_count": 19,
   "metadata": {},
   "outputs": [
    {
     "data": {
      "image/png": "[encoded data removed]",
      "text/plain": [
       "<Figure size 1500x1000 with 1 Axes>"
      ]
     },
     "metadata": {},
     "output_type": "display_data"
    }
   ],
   "source": [
    "view_word_frequency(answer_counts, colormap='mako', title='frequency of all output classes', limit=answer_counts.shape[0])"
   ]
  },
  {
   "cell_type": "code",
   "execution_count": 20,
   "metadata": {},
   "outputs": [
    {
     "data": {
      "text/html": [
       "<div>\n",
       "<style scoped>\n",
       "    .dataframe tbody tr th:only-of-type {\n",
       "        vertical-align: middle;\n",
       "    }\n",
       "\n",
       "    .dataframe tbody tr th {\n",
       "        vertical-align: top;\n",
       "    }\n",
       "\n",
       "    .dataframe thead th {\n",
       "        text-align: right;\n",
       "    }\n",
       "</style>\n",
       "<table border=\"1\" class=\"dataframe\">\n",
       "  <thead>\n",
       "    <tr style=\"text-align: right;\">\n",
       "      <th></th>\n",
       "      <th>file_path</th>\n",
       "      <th>answer</th>\n",
       "    </tr>\n",
       "  </thead>\n",
       "  <tbody>\n",
       "    <tr>\n",
       "      <th>0</th>\n",
       "      <td>d:\\Projects\\To Github\\LaRJ-Corpus\\raw jurispru...</td>\n",
       "      <td>NOT LABOR RELATED</td>\n",
       "    </tr>\n",
       "    <tr>\n",
       "      <th>1</th>\n",
       "      <td>d:\\Projects\\To Github\\LaRJ-Corpus\\raw jurispru...</td>\n",
       "      <td>TIME_LIMIT_REACHED</td>\n",
       "    </tr>\n",
       "    <tr>\n",
       "      <th>2</th>\n",
       "      <td>d:\\Projects\\To Github\\LaRJ-Corpus\\raw jurispru...</td>\n",
       "      <td>RATE_LIMIT_ERROR</td>\n",
       "    </tr>\n",
       "    <tr>\n",
       "      <th>3</th>\n",
       "      <td>d:\\Projects\\To Github\\LaRJ-Corpus\\raw jurispru...</td>\n",
       "      <td>NOT LABOR RELATED</td>\n",
       "    </tr>\n",
       "    <tr>\n",
       "      <th>4</th>\n",
       "      <td>d:\\Projects\\To Github\\LaRJ-Corpus\\raw jurispru...</td>\n",
       "      <td>NOT LABOR RELATED</td>\n",
       "    </tr>\n",
       "    <tr>\n",
       "      <th>...</th>\n",
       "      <td>...</td>\n",
       "      <td>...</td>\n",
       "    </tr>\n",
       "    <tr>\n",
       "      <th>30617</th>\n",
       "      <td>d:\\Projects\\To Github\\LaRJ-Corpus\\raw jurispru...</td>\n",
       "      <td>NOT LABOR RELATED</td>\n",
       "    </tr>\n",
       "    <tr>\n",
       "      <th>30618</th>\n",
       "      <td>d:\\Projects\\To Github\\LaRJ-Corpus\\raw jurispru...</td>\n",
       "      <td>INVALID_REQUEST_ERROR</td>\n",
       "    </tr>\n",
       "    <tr>\n",
       "      <th>30619</th>\n",
       "      <td>d:\\Projects\\To Github\\LaRJ-Corpus\\raw jurispru...</td>\n",
       "      <td>INVALID_REQUEST_ERROR</td>\n",
       "    </tr>\n",
       "    <tr>\n",
       "      <th>30620</th>\n",
       "      <td>d:\\Projects\\To Github\\LaRJ-Corpus\\raw jurispru...</td>\n",
       "      <td>NOT LABOR RELATED</td>\n",
       "    </tr>\n",
       "    <tr>\n",
       "      <th>30621</th>\n",
       "      <td>d:\\Projects\\To Github\\LaRJ-Corpus\\raw jurispru...</td>\n",
       "      <td>LABOR RELATED</td>\n",
       "    </tr>\n",
       "  </tbody>\n",
       "</table>\n",
       "<p>30614 rows × 2 columns</p>\n",
       "</div>"
      ],
      "text/plain": [
       "                                               file_path  \\\n",
       "0      d:\\Projects\\To Github\\LaRJ-Corpus\\raw jurispru...   \n",
       "1      d:\\Projects\\To Github\\LaRJ-Corpus\\raw jurispru...   \n",
       "2      d:\\Projects\\To Github\\LaRJ-Corpus\\raw jurispru...   \n",
       "3      d:\\Projects\\To Github\\LaRJ-Corpus\\raw jurispru...   \n",
       "4      d:\\Projects\\To Github\\LaRJ-Corpus\\raw jurispru...   \n",
       "...                                                  ...   \n",
       "30617  d:\\Projects\\To Github\\LaRJ-Corpus\\raw jurispru...   \n",
       "30618  d:\\Projects\\To Github\\LaRJ-Corpus\\raw jurispru...   \n",
       "30619  d:\\Projects\\To Github\\LaRJ-Corpus\\raw jurispru...   \n",
       "30620  d:\\Projects\\To Github\\LaRJ-Corpus\\raw jurispru...   \n",
       "30621  d:\\Projects\\To Github\\LaRJ-Corpus\\raw jurispru...   \n",
       "\n",
       "                      answer  \n",
       "0          NOT LABOR RELATED  \n",
       "1         TIME_LIMIT_REACHED  \n",
       "2           RATE_LIMIT_ERROR  \n",
       "3          NOT LABOR RELATED  \n",
       "4          NOT LABOR RELATED  \n",
       "...                      ...  \n",
       "30617      NOT LABOR RELATED  \n",
       "30618  INVALID_REQUEST_ERROR  \n",
       "30619  INVALID_REQUEST_ERROR  \n",
       "30620      NOT LABOR RELATED  \n",
       "30621          LABOR RELATED  \n",
       "\n",
       "[30614 rows x 2 columns]"
      ]
     },
     "execution_count": 20,
     "metadata": {},
     "output_type": "execute_result"
    }
   ],
   "source": [
    "# drop all rows with values of the answer column other than 'NOT LABOR RELATED', \n",
    "# 'LABOR RELATED', 'INVALID_REQUEST_ERROR', 'RATE_LIMIT_ERROR', 'TIME_LIMIT_REACHED', \n",
    "# 'SERVICE_UNAVAILABLE_ERROR', 'API_CONNECTION_ERROR'\n",
    "# answers__df.drop(index=answers__df[])\n",
    "bools = ((answers__df['answer'] == 'NOT LABOR RELATED') | \n",
    " (answers__df['answer'] == 'LABOR RELATED') | \n",
    " (answers__df['answer'] == 'INVALID_REQUEST_ERROR') | \n",
    "(answers__df['answer'] == 'RATE_LIMIT_ERROR') | \n",
    "(answers__df['answer'] == 'TIME_LIMIT_REACHED') | \n",
    "(answers__df['answer'] == 'SERVICE_UNAVAILABLE_ERROR') |\n",
    "(answers__df['answer'] == 'API_CONNECTION_ERROR'))\n",
    "\n",
    "reduced = answers__df[bools]\n",
    "reduced"
   ]
  },
  {
   "cell_type": "code",
   "execution_count": 21,
   "metadata": {},
   "outputs": [
    {
     "data": {
      "text/plain": [
       "NOT LABOR RELATED            19623\n",
       "INVALID_REQUEST_ERROR         4337\n",
       "LABOR RELATED                 4228\n",
       "RATE_LIMIT_ERROR              1971\n",
       "TIME_LIMIT_REACHED             282\n",
       "SERVICE_UNAVAILABLE_ERROR      164\n",
       "API_CONNECTION_ERROR             9\n",
       "Name: answer, dtype: int64"
      ]
     },
     "execution_count": 21,
     "metadata": {},
     "output_type": "execute_result"
    }
   ],
   "source": [
    "reduced['answer'].value_counts()"
   ]
  },
  {
   "cell_type": "code",
   "execution_count": 22,
   "metadata": {},
   "outputs": [
    {
     "data": {
      "image/png": "[encoded data removed]",
      "text/plain": [
       "<Figure size 1500x1000 with 1 Axes>"
      ]
     },
     "metadata": {},
     "output_type": "display_data"
    }
   ],
   "source": [
    "view_word_frequency(reduced['answer'].value_counts(), colormap='flare', title='frequency of reduced output classes', limit=reduced['answer'].value_counts().shape[0])"
   ]
  },
  {
   "cell_type": "code",
   "execution_count": 23,
   "metadata": {},
   "outputs": [
    {
     "name": "stderr",
     "output_type": "stream",
     "text": [
      "C:\\Users\\Mig\\AppData\\Local\\Temp\\ipykernel_8800\\4215035736.py:2: SettingWithCopyWarning: \n",
      "A value is trying to be set on a copy of a slice from a DataFrame\n",
      "\n",
      "See the caveats in the documentation: https://pandas.pydata.org/pandas-docs/stable/user_guide/indexing.html#returning-a-view-versus-a-copy\n",
      "  reduced.rename(columns={'file_path': 'abs_file_path'}, inplace=True)\n"
     ]
    },
    {
     "data": {
      "text/html": [
       "<div>\n",
       "<style scoped>\n",
       "    .dataframe tbody tr th:only-of-type {\n",
       "        vertical-align: middle;\n",
       "    }\n",
       "\n",
       "    .dataframe tbody tr th {\n",
       "        vertical-align: top;\n",
       "    }\n",
       "\n",
       "    .dataframe thead th {\n",
       "        text-align: right;\n",
       "    }\n",
       "</style>\n",
       "<table border=\"1\" class=\"dataframe\">\n",
       "  <thead>\n",
       "    <tr style=\"text-align: right;\">\n",
       "      <th></th>\n",
       "      <th>abs_file_path</th>\n",
       "      <th>answer</th>\n",
       "    </tr>\n",
       "  </thead>\n",
       "  <tbody>\n",
       "    <tr>\n",
       "      <th>0</th>\n",
       "      <td>d:\\Projects\\To Github\\LaRJ-Corpus\\raw jurispru...</td>\n",
       "      <td>NOT LABOR RELATED</td>\n",
       "    </tr>\n",
       "    <tr>\n",
       "      <th>1</th>\n",
       "      <td>d:\\Projects\\To Github\\LaRJ-Corpus\\raw jurispru...</td>\n",
       "      <td>TIME_LIMIT_REACHED</td>\n",
       "    </tr>\n",
       "    <tr>\n",
       "      <th>2</th>\n",
       "      <td>d:\\Projects\\To Github\\LaRJ-Corpus\\raw jurispru...</td>\n",
       "      <td>RATE_LIMIT_ERROR</td>\n",
       "    </tr>\n",
       "    <tr>\n",
       "      <th>3</th>\n",
       "      <td>d:\\Projects\\To Github\\LaRJ-Corpus\\raw jurispru...</td>\n",
       "      <td>NOT LABOR RELATED</td>\n",
       "    </tr>\n",
       "    <tr>\n",
       "      <th>4</th>\n",
       "      <td>d:\\Projects\\To Github\\LaRJ-Corpus\\raw jurispru...</td>\n",
       "      <td>NOT LABOR RELATED</td>\n",
       "    </tr>\n",
       "    <tr>\n",
       "      <th>...</th>\n",
       "      <td>...</td>\n",
       "      <td>...</td>\n",
       "    </tr>\n",
       "    <tr>\n",
       "      <th>30609</th>\n",
       "      <td>d:\\Projects\\To Github\\LaRJ-Corpus\\raw jurispru...</td>\n",
       "      <td>NOT LABOR RELATED</td>\n",
       "    </tr>\n",
       "    <tr>\n",
       "      <th>30610</th>\n",
       "      <td>d:\\Projects\\To Github\\LaRJ-Corpus\\raw jurispru...</td>\n",
       "      <td>INVALID_REQUEST_ERROR</td>\n",
       "    </tr>\n",
       "    <tr>\n",
       "      <th>30611</th>\n",
       "      <td>d:\\Projects\\To Github\\LaRJ-Corpus\\raw jurispru...</td>\n",
       "      <td>INVALID_REQUEST_ERROR</td>\n",
       "    </tr>\n",
       "    <tr>\n",
       "      <th>30612</th>\n",
       "      <td>d:\\Projects\\To Github\\LaRJ-Corpus\\raw jurispru...</td>\n",
       "      <td>NOT LABOR RELATED</td>\n",
       "    </tr>\n",
       "    <tr>\n",
       "      <th>30613</th>\n",
       "      <td>d:\\Projects\\To Github\\LaRJ-Corpus\\raw jurispru...</td>\n",
       "      <td>LABOR RELATED</td>\n",
       "    </tr>\n",
       "  </tbody>\n",
       "</table>\n",
       "<p>30614 rows × 2 columns</p>\n",
       "</div>"
      ],
      "text/plain": [
       "                                           abs_file_path  \\\n",
       "0      d:\\Projects\\To Github\\LaRJ-Corpus\\raw jurispru...   \n",
       "1      d:\\Projects\\To Github\\LaRJ-Corpus\\raw jurispru...   \n",
       "2      d:\\Projects\\To Github\\LaRJ-Corpus\\raw jurispru...   \n",
       "3      d:\\Projects\\To Github\\LaRJ-Corpus\\raw jurispru...   \n",
       "4      d:\\Projects\\To Github\\LaRJ-Corpus\\raw jurispru...   \n",
       "...                                                  ...   \n",
       "30609  d:\\Projects\\To Github\\LaRJ-Corpus\\raw jurispru...   \n",
       "30610  d:\\Projects\\To Github\\LaRJ-Corpus\\raw jurispru...   \n",
       "30611  d:\\Projects\\To Github\\LaRJ-Corpus\\raw jurispru...   \n",
       "30612  d:\\Projects\\To Github\\LaRJ-Corpus\\raw jurispru...   \n",
       "30613  d:\\Projects\\To Github\\LaRJ-Corpus\\raw jurispru...   \n",
       "\n",
       "                      answer  \n",
       "0          NOT LABOR RELATED  \n",
       "1         TIME_LIMIT_REACHED  \n",
       "2           RATE_LIMIT_ERROR  \n",
       "3          NOT LABOR RELATED  \n",
       "4          NOT LABOR RELATED  \n",
       "...                      ...  \n",
       "30609      NOT LABOR RELATED  \n",
       "30610  INVALID_REQUEST_ERROR  \n",
       "30611  INVALID_REQUEST_ERROR  \n",
       "30612      NOT LABOR RELATED  \n",
       "30613          LABOR RELATED  \n",
       "\n",
       "[30614 rows x 2 columns]"
      ]
     },
     "execution_count": 23,
     "metadata": {},
     "output_type": "execute_result"
    }
   ],
   "source": [
    "# rename file_path column to abs_file_path\n",
    "reduced.rename(columns={'file_path': 'abs_file_path'}, inplace=True)\n",
    "\n",
    "# reset indeces of now reduced dataset, with removed rows with unclear \n",
    "# answers reduced.to_csv. Do not set as new column anymore the column \n",
    "# of old indeces also by simply setting drop to true\n",
    "reduced.reset_index(drop=True, inplace=True)\n",
    "reduced"
   ]
  },
  {
   "cell_type": "code",
   "execution_count": 24,
   "metadata": {},
   "outputs": [
    {
     "name": "stderr",
     "output_type": "stream",
     "text": [
      "C:\\Users\\Mig\\AppData\\Local\\Temp\\ipykernel_8800\\3323428195.py:4: SettingWithCopyWarning: \n",
      "A value is trying to be set on a copy of a slice from a DataFrame.\n",
      "Try using .loc[row_indexer,col_indexer] = value instead\n",
      "\n",
      "See the caveats in the documentation: https://pandas.pydata.org/pandas-docs/stable/user_guide/indexing.html#returning-a-view-versus-a-copy\n",
      "  reduced['abs_file_path'] = reduced['abs_file_path'].apply(lambda abs_file_path: re.sub(r'\\\\', '/', abs_file_path))\n"
     ]
    },
    {
     "data": {
      "text/html": [
       "<div>\n",
       "<style scoped>\n",
       "    .dataframe tbody tr th:only-of-type {\n",
       "        vertical-align: middle;\n",
       "    }\n",
       "\n",
       "    .dataframe tbody tr th {\n",
       "        vertical-align: top;\n",
       "    }\n",
       "\n",
       "    .dataframe thead th {\n",
       "        text-align: right;\n",
       "    }\n",
       "</style>\n",
       "<table border=\"1\" class=\"dataframe\">\n",
       "  <thead>\n",
       "    <tr style=\"text-align: right;\">\n",
       "      <th></th>\n",
       "      <th>abs_file_path</th>\n",
       "      <th>answer</th>\n",
       "    </tr>\n",
       "  </thead>\n",
       "  <tbody>\n",
       "    <tr>\n",
       "      <th>0</th>\n",
       "      <td>d:/Projects/To Github/LaRJ-Corpus/raw jurispru...</td>\n",
       "      <td>NOT LABOR RELATED</td>\n",
       "    </tr>\n",
       "    <tr>\n",
       "      <th>1</th>\n",
       "      <td>d:/Projects/To Github/LaRJ-Corpus/raw jurispru...</td>\n",
       "      <td>TIME_LIMIT_REACHED</td>\n",
       "    </tr>\n",
       "    <tr>\n",
       "      <th>2</th>\n",
       "      <td>d:/Projects/To Github/LaRJ-Corpus/raw jurispru...</td>\n",
       "      <td>RATE_LIMIT_ERROR</td>\n",
       "    </tr>\n",
       "    <tr>\n",
       "      <th>3</th>\n",
       "      <td>d:/Projects/To Github/LaRJ-Corpus/raw jurispru...</td>\n",
       "      <td>NOT LABOR RELATED</td>\n",
       "    </tr>\n",
       "    <tr>\n",
       "      <th>4</th>\n",
       "      <td>d:/Projects/To Github/LaRJ-Corpus/raw jurispru...</td>\n",
       "      <td>NOT LABOR RELATED</td>\n",
       "    </tr>\n",
       "    <tr>\n",
       "      <th>...</th>\n",
       "      <td>...</td>\n",
       "      <td>...</td>\n",
       "    </tr>\n",
       "    <tr>\n",
       "      <th>30609</th>\n",
       "      <td>d:/Projects/To Github/LaRJ-Corpus/raw jurispru...</td>\n",
       "      <td>NOT LABOR RELATED</td>\n",
       "    </tr>\n",
       "    <tr>\n",
       "      <th>30610</th>\n",
       "      <td>d:/Projects/To Github/LaRJ-Corpus/raw jurispru...</td>\n",
       "      <td>INVALID_REQUEST_ERROR</td>\n",
       "    </tr>\n",
       "    <tr>\n",
       "      <th>30611</th>\n",
       "      <td>d:/Projects/To Github/LaRJ-Corpus/raw jurispru...</td>\n",
       "      <td>INVALID_REQUEST_ERROR</td>\n",
       "    </tr>\n",
       "    <tr>\n",
       "      <th>30612</th>\n",
       "      <td>d:/Projects/To Github/LaRJ-Corpus/raw jurispru...</td>\n",
       "      <td>NOT LABOR RELATED</td>\n",
       "    </tr>\n",
       "    <tr>\n",
       "      <th>30613</th>\n",
       "      <td>d:/Projects/To Github/LaRJ-Corpus/raw jurispru...</td>\n",
       "      <td>LABOR RELATED</td>\n",
       "    </tr>\n",
       "  </tbody>\n",
       "</table>\n",
       "<p>30614 rows × 2 columns</p>\n",
       "</div>"
      ],
      "text/plain": [
       "                                           abs_file_path  \\\n",
       "0      d:/Projects/To Github/LaRJ-Corpus/raw jurispru...   \n",
       "1      d:/Projects/To Github/LaRJ-Corpus/raw jurispru...   \n",
       "2      d:/Projects/To Github/LaRJ-Corpus/raw jurispru...   \n",
       "3      d:/Projects/To Github/LaRJ-Corpus/raw jurispru...   \n",
       "4      d:/Projects/To Github/LaRJ-Corpus/raw jurispru...   \n",
       "...                                                  ...   \n",
       "30609  d:/Projects/To Github/LaRJ-Corpus/raw jurispru...   \n",
       "30610  d:/Projects/To Github/LaRJ-Corpus/raw jurispru...   \n",
       "30611  d:/Projects/To Github/LaRJ-Corpus/raw jurispru...   \n",
       "30612  d:/Projects/To Github/LaRJ-Corpus/raw jurispru...   \n",
       "30613  d:/Projects/To Github/LaRJ-Corpus/raw jurispru...   \n",
       "\n",
       "                      answer  \n",
       "0          NOT LABOR RELATED  \n",
       "1         TIME_LIMIT_REACHED  \n",
       "2           RATE_LIMIT_ERROR  \n",
       "3          NOT LABOR RELATED  \n",
       "4          NOT LABOR RELATED  \n",
       "...                      ...  \n",
       "30609      NOT LABOR RELATED  \n",
       "30610  INVALID_REQUEST_ERROR  \n",
       "30611  INVALID_REQUEST_ERROR  \n",
       "30612      NOT LABOR RELATED  \n",
       "30613          LABOR RELATED  \n",
       "\n",
       "[30614 rows x 2 columns]"
      ]
     },
     "execution_count": 24,
     "metadata": {},
     "output_type": "execute_result"
    }
   ],
   "source": [
    "# replace all occurences of backward slash with forward slash\n",
    "# in order to ensure that when path is read it won't throw an\n",
    "# OSError: [Errno 22] Invalid argument\n",
    "reduced['abs_file_path'] = reduced['abs_file_path'].apply(lambda abs_file_path: re.sub(r'\\\\', '/', abs_file_path))\n",
    "reduced"
   ]
  },
  {
   "cell_type": "code",
   "execution_count": 25,
   "metadata": {},
   "outputs": [],
   "source": [
    "# save answers__df relative to this notebooks directory\n",
    "reduced.to_csv('./answers__df.csv')"
   ]
  }
 ],
 "metadata": {
  "kernelspec": {
   "display_name": "mldev",
   "language": "python",
   "name": "python3"
  },
  "language_info": {
   "codemirror_mode": {
    "name": "ipython",
    "version": 3
   },
   "file_extension": ".py",
   "mimetype": "text/x-python",
   "name": "python",
   "nbconvert_exporter": "python",
   "pygments_lexer": "ipython3",
   "version": "3.10.11"
  },
  "orig_nbformat": 4
 },
 "nbformat": 4,
 "nbformat_minor": 2
}
