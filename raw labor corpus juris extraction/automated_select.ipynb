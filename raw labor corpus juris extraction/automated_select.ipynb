{
  "cells": [
    {
      "cell_type": "code",
      "execution_count": 2,
      "metadata": {
        "colab": {
          "base_uri": "https://localhost:8080/",
          "height": 380
        },
        "id": "up606DAoP7i0",
        "outputId": "bff45545-ef65-4614-98cd-888036265324"
      },
      "outputs": [],
      "source": [
        "import requests\n",
        "from bs4 import BeautifulSoup\n",
        "from selenium import webdriver\n",
        "from selenium.webdriver.chrome.service import Service\n",
        "\n",
        "# https://www.chanrobles.com/majorphilippinelaborlawresources.html\n",
        "major_philippine_labor_law_resources_links = ['https://www.chanrobles.com/legal4circular.htm#LABOR%20CIRCULAR%20ON-LINE', 'https://www.chanrobles.com/legal4labor.htm#LABOR%20CODE%20OF%20THE%20PHILIPPINES%20%5BFULL%20TEXT%5D', 'https://www.chanrobles.com/republicactno6715.html', 'https://www.chanrobles.com/presidentialdecreeno626.html', 'https://www.chanrobles.com/bataspambansabilang227.htm', 'https://www.chanrobles.com/bataspambansabilang130.htm', 'https://www.chanrobles.com/bataspambansabilang70.htm', 'https://www.chanrobles.com/bataspambansabilang32.htm', 'https://www.chanrobles.com/implementingrulesofthelaborcode.htm', 'https://www.chanrobles.com/guidelinesgoverninglaborelations.htm', 'https://www.chanrobles.com/guidelinesonpoliceconductduringstrikes.htm', 'https://www.chanrobles.com/amendedrulesonemployeescompensation.htm', 'https://www.chanrobles.com/doledepartmentorderno9-1997.html', 'https://www.chanrobles.com/dispositionoflaborstandardscases.htm', 'https://www.chanrobles.com/republicactno7730.htm', 'https://www.chanrobles.com/legal4sss.htm#SOCIAL%20SECURITY%20ACT%20OF%201997', 'https://www.chanrobles.com/republicactno7699.htm', 'https://www.chanrobles.com/legal4gsis.htm#GOVERNMENT%20SERVICE%20INSURANCE%20SYSTEM%20ACT%20OF%201997', 'https://www.chanrobles.com/legal4pagibig.htm#HOME%20DEVELOPMENT%20MUTUAL%20FUND%20LAW%20OF%201980', 'https://www.chanrobles.com/legal4nhia.htm#PHILIPPINE%20NATIONAL%20HEALTH%20INSURANCE%20ACT%20OF%201995', 'https://www.chanrobles.com/republicactno9241.html', 'https://www.chanrobles.com/legal4medicare.htm#REVISED%20PHILIPPINE%20MEDICAL%20CARE%20ACT', 'https://www.chanrobles.com/legal4agrarianlaw.htm', 'https://www.chanrobles.com/republicactno7171.htm', 'https://www.chanrobles.com/republicactno7881.htm', 'https://www.chanrobles.com/republicactno7305.htm', 'https://www.chanrobles.com/republicactno8759.htm', 'https://www.chanrobles.com/legal4paternity.htm', 'https://www.chanrobles.com/republicactno7641.htm', 'https://www.chanrobles.com/republicactno8558.htm', 'https://www.chanrobles.com/republicactno7277.htm', 'https://www.chanrobles.com/republicactno7610.html', 'https://www.chanrobles.com/republicactno7658.htm', 'https://www.chanrobles.com/republicactno9231.html', 'https://www.chanrobles.com/republicactno9231rules.html', 'https://www.chanrobles.com/republicactno7610trafficofchildren.html', 'https://www.chanrobles.com/legal4maternitybenefits.htm', 'https://www.chanrobles.com/legal4antisexualharassmentact.htm', 'https://www.chanrobles.com/republicactno7877rules.htm', 'https://www.chanrobles.com/republicactno7192.htm', 'https://www.chanrobles.com/republicactno7882.htm', 'https://www.chanrobles.com/republicactno6949.htm', 'https://www.chanrobles.com/republicactno9177.html', 'https://www.chanrobles.com/republicactno6725.htm', 'https://www.chanrobles.com/pslmcresolution032001.htm', 'https://www.chanrobles.com/legal4tesda.htm', 'https://www.chanrobles.com/legal4tesdarules.htm', 'https://www.chanrobles.com/republicactno7686.htm', 'https://www.chanrobles.com/republicactno7368.htm', 'https://www.chanrobles.com/republicactno6810.htm', 'https://www.chanrobles.com/republicactno7883.htm', 'https://www.chanrobles.com/republicactno7323.htm', 'https://www.chanrobles.com/republicactno6982.htm', 'https://www.chanrobles.com/legal4wagerationalize.htm', 'https://www.chanrobles.com/minimumwagefixingrules.htm', 'https://www.chanrobles.com/minimumwagerates.htm', 'https://www.chanrobles.com/republicactno6640.htm', 'https://www.chanrobles.com/republicactno6728.htm', 'https://www.chanrobles.com/legal4wagepenalty.htm', 'https://www.chanrobles.com/republicactno6971.htm', 'https://www.chanrobles.com/presidentialdecreeno2018.html', 'https://www.chanrobles.com/presidentialdecreeno807.htm', 'https://www.chanrobles.com/republicactno6654.htm', 'https://www.chanrobles.com/republicactno6656.htm', 'https://www.chanrobles.com/republicactno6683.htm', 'https://www.chanrobles.com/republicactno6686.htm', 'https://www.chanrobles.com/republicactno6758.htm', 'https://www.chanrobles.com/republicactno6850.htm', 'https://www.chanrobles.com/republicactno6938.htm', 'https://www.chanrobles.com/republicactno6939.htm']\n",
        "\n",
        "# https://www.chanrobles.com/nlrc.html\n",
        "NLRC_links = ['https://www.chanrobles.com/laborlaw/2011_newrule_nlrc.php', 'https://www.chanrobles.com/nlrcenbancresolutionno11-06.html', 'https://www.chanrobles.com/nlrcenbancresolutionno10-06.html', 'https://www.chanrobles.com/nlrcrevisedrulesofprocedure2005.html', 'https://www.chanrobles.com/nlrcnewrulesofprocedure.html', 'https://www.chanrobles.com/nlrcnewrulesofprocedure1.html', 'https://www.chanrobles.com/nlrcinterimrulesofprocedure.html', 'https://www.chanrobles.com/nlrcmanualonexecutionofjudgment.html', 'https://www.chanrobles.com/nlrcsheriffsmanual.html']\n",
        "\n",
        "# https://www.chanrobles.com/13thmonthpaylaw.html\n",
        "thirteenth_month_pay_law_links = ['https://www.chanrobles.com/presidentialdecreeno851.htm', 'https://www.chanrobles.com/presidentialdecreeno851rules.htm', 'https://www.chanrobles.com/presidentialdecreeno851supplementaryrules.htm', 'https://www.chanrobles.com/presidentialdecreeno851guidelines.htm', 'https://www.chanrobles.com/revised13thmonthpayguidelines.htm']\n",
        "\n",
        "# https://www.chanrobles.com/rulesoncontractingandsubcontracting.html\n",
        "rules_on_contracting_arrangement_links = ['https://www.chanrobles.com/doledepartmentorderno18-02-2002.html', 'https://www.chanrobles.com/doledepartmentorderno03-2001.html', 'https://www.chanrobles.com/dolecontractingsubcontractingprimer.html', 'https://www.chanrobles.com/doledepartmentorderno10-1997.htm']\n",
        "\n",
        "# https://www.chanrobles.com/significantDOLEdepartmentorders.html\n",
        "significant_dole_department_orders_links = ['https://www.chanrobles.com/doledepartmentorderno1-2001.html', 'https://www.chanrobles.com/doledepartmentorderno2-2001.html', 'https://www.chanrobles.com/doledepartmentorderno03-2001.html', 'https://www.chanrobles.com/doledepartmentorderno4-2001.html', 'https://www.chanrobles.com/doledepartmentorderno5-2001.html', 'https://www.chanrobles.com/doledepartmentorderno6-2001.html', 'https://www.chanrobles.com/doledepartmentorderno7-2001.html', 'https://www.chanrobles.com/doledepartmentorderno8-2001.html', 'https://www.chanrobles.com/doledepartmentorderno9-2001.html', 'https://www.chanrobles.com/doledepartmentorderno10-2001.html', 'https://www.chanrobles.com/doledepartmentorderno11-2001.html', 'https://www.chanrobles.com/doledepartmentorderno12-2001.html', 'https://www.chanrobles.com/doledepartmentorderno13-2001.html', 'https://www.chanrobles.com/doledepartmentorderno14-2001.html', 'https://www.chanrobles.com/doledepartmentorderno15-2001.html', 'https://www.chanrobles.com/doledepartmentorderno16-2001.html', 'https://www.chanrobles.com/doledepartmentorderno53-03seriesof2003.html', 'https://www.chanrobles.com/dolerule1160-2001.html', 'https://www.chanrobles.com/dolerule1170-2001.html']\n",
        "\n",
        "# other_labor_law_resources\n",
        "\n",
        "# https://www.chanrobles.com/internationallaborlawresources.html\n",
        "international_labor_law_resources = ['https://www.chanrobles.com/legal4conventions.html', 'https://www.chanrobles.com/legal4conventions1.html', 'https://www.chanrobles.com/arbitration.htm']\n",
        "\n",
        "# https://www.chanrobles.com/philippinelawsonoverseasemployment.html\n",
        "philippine_laws_on_overseas_employment_links = ['https://www.chanrobles.com/republicactno8042.htm', 'https://www.chanrobles.com/republicactno8042rules.htm', 'https://www.chanrobles.com/republicactno7111.htm', 'https://www.chanrobles.com/presidentialdecreeno1809.htm', 'https://www.chanrobles.com/presidentialdecreeno1694.htm', 'https://www.chanrobles.com/bataspambansabilang79.htm', 'https://www.chanrobles.com/legal4labor7.htm', 'https://www.chanrobles.com/poeaexecutiveorderno797.htm', 'https://www.chanrobles.com/poearulesgoverningoverseasemployment2002.html', 'https://www.chanrobles.com/poearulesgoverningoverseasemployment2003.html', 'https://www.chanrobles.com/poearulesgoverningoverseasemployment.htm', 'https://www.chanrobles.com/poeaexecutiveorderno247.htm', 'https://www.chanrobles.com/poeaexecutiveorderno797ministryorder.htm', 'https://www.chanrobles.com/doledepartmentorderno4-2001.html', 'https://www.chanrobles.com/doledepartmentorderno10-2001.html', 'https://www.chanrobles.com/legal3poea.htm']\n",
        "\n",
        "# https://www.chanrobles.com/poeamemorandumcirculars.html\n",
        "POEA_memorandum_circulars_2004_links = ['https://www.chanrobles.com/poeamemocircularno1seriesof2004.html', 'http://www.chanrobles.com/poeamemocircularno5seriesof2004.html', 'https://www.chanrobles.com/poeamemocircularno10seriesof2004.html', 'https://www.chanrobles.com/poeamemocircularno11seriesof2004.html', 'https://www.chanrobles.com/poeamemocircularno11-Aseriesof2004.html', 'https://www.chanrobles.com/poeamemocircularno12seriesof2004.html', 'https://www.chanrobles.com/poeamemocircularno13seriesof2004.html']\n",
        "POEA_memorandum_circulars_2003_links = ['http://www.chanrobles.com/poeamemocircularno1seriesof2003.html', 'https://www.chanrobles.com/poeamemocircularno2seriesof2003.html', 'https://www.chanrobles.com/poeamemocircularno4seriesof2003.html', 'https://www.chanrobles.com/poeamemocircularno7seriesof2003.html', 'https://www.chanrobles.com/poeamemocircularno8seriesof2003.html', 'https://www.chanrobles.com/poeamemocircularno10seriesof2003.html', 'https://www.chanrobles.com/poeamemocircularno14seriesof2003.html', 'https://www.chanrobles.com/poeamemocircularno15seriesof2003.html', 'https://www.chanrobles.com/poeamemocircularno18seriesof2003.html', 'https://www.chanrobles.com/poeamemocircularno20seriesof2003.html', 'https://www.chanrobles.com/poeamemocircularno23seriesof2003.html', 'https://www.chanrobles.com/poeamemocircularno24seriesof2003.html', 'https://www.chanrobles.com/poeamemocircularno25seriesof2003.html', 'https://www.chanrobles.com/poeamemocircularno26seriesof2003.html', 'https://www.chanrobles.com/poeamemocircularno27seriesof2003.html', 'https://www.chanrobles.com/poeamemocircularno28seriesof2003.html', 'https://www.chanrobles.com/poeamemocircularno29seriesof2003.html']\n",
        "POEA_memorandum_circulars_2002_links = ['https://www.chanrobles.com/poeamemocircularno1seriesof2002.html', 'https://www.chanrobles.com/poeamemocircularno2seriesof2002.html', 'https://www.chanrobles.com/poeamemocircularno4seriesof2002.html', 'https://www.chanrobles.com/poeamemocircularno8seriesof2002.html', 'https://www.chanrobles.com/poeamemocircularno9seriesof2002.html', 'https://www.chanrobles.com/poeamemocircularno13seriesof2002.html', 'https://www.chanrobles.com/poeamemocircularno17seriesof2002.html']\n",
        "\n",
        "# https://www.chanrobles.com/minimumwagerates.htm\n",
        "wage_orders_links = ['https://www.chanrobles.com/ncrminimumwagerates.html', 'https://www.chanrobles.com/carwagerates.carwageorderrbcar12.html', 'https://www.chanrobles.com/region1.wageordernorb1-12.html', 'https://www.chanrobles.com/region3.wageordernorb-3-13.html', 'https://www.chanrobles.com/region4a.wageorderno-iva-12.html']"
      ]
    },
    {
      "cell_type": "code",
      "execution_count": 4,
      "metadata": {},
      "outputs": [
        {
          "data": {
            "text/plain": [
              "19"
            ]
          },
          "execution_count": 4,
          "metadata": {},
          "output_type": "execute_result"
        }
      ],
      "source": [
        "len(significant_dole_department_orders_links)"
      ]
    },
    {
      "cell_type": "code",
      "execution_count": 5,
      "metadata": {},
      "outputs": [
        {
          "data": {
            "text/plain": [
              "16"
            ]
          },
          "execution_count": 5,
          "metadata": {},
          "output_type": "execute_result"
        }
      ],
      "source": [
        "len(philippine_laws_on_overseas_employment_links)"
      ]
    },
    {
      "cell_type": "code",
      "execution_count": 6,
      "metadata": {},
      "outputs": [
        {
          "data": {
            "text/plain": [
              "7"
            ]
          },
          "execution_count": 6,
          "metadata": {},
          "output_type": "execute_result"
        }
      ],
      "source": [
        "len(POEA_memorandum_circulars_2002_links)"
      ]
    },
    {
      "cell_type": "code",
      "execution_count": 7,
      "metadata": {},
      "outputs": [
        {
          "data": {
            "text/plain": [
              "17"
            ]
          },
          "execution_count": 7,
          "metadata": {},
          "output_type": "execute_result"
        }
      ],
      "source": [
        "len(POEA_memorandum_circulars_2003_links)"
      ]
    },
    {
      "cell_type": "code",
      "execution_count": 8,
      "metadata": {},
      "outputs": [
        {
          "data": {
            "text/plain": [
              "7"
            ]
          },
          "execution_count": 8,
          "metadata": {},
          "output_type": "execute_result"
        }
      ],
      "source": [
        "len(POEA_memorandum_circulars_2004_links)"
      ]
    },
    {
      "cell_type": "code",
      "execution_count": 9,
      "metadata": {},
      "outputs": [
        {
          "data": {
            "text/plain": [
              "5"
            ]
          },
          "execution_count": 9,
          "metadata": {},
          "output_type": "execute_result"
        }
      ],
      "source": [
        "len(wage_orders_links)"
      ]
    },
    {
      "cell_type": "code",
      "execution_count": 21,
      "metadata": {},
      "outputs": [],
      "source": [
        "# test out if find(), find_all(), select_one(), select() is similar to find_element() and find_elements()\n",
        "dom_text = requests.get(\"https://www.chanrobles.com/rulesoncontractingandsubcontracting.html\").text\n",
        "dom = BeautifulSoup(dom_text)\n",
        "\n",
        "# test a css selector that does not exist in the html document using dom.select()\n",
        "# returns an empty list of if no elements exist using css selector\n",
        "test_1 = dom.select('html > body > div:first-of-type > div:nth-of-type(2) > span > button > a')\n",
        "\n",
        "# test a css selector that does exist and another that doesnt using dom.select()\n",
        "# returns a list of all the, indeed, existing elements, even if other elements do not exist using the css \n",
        "test_2 = dom.select('html > body > div:first-of-type > div:first-of-type > div:nth-of-type(3) > ul > li:nth-of-type(2), html > body > div:first-of-type > div:nth-of-type(2) > span > button > a')\n",
        "\n",
        "# test a css selector that does not exist in the html document using dom.select_one()\n",
        "# returns none if no element is found and the first occurence of the element if otherwise\n",
        "test_3 = dom.select_one('html > body > div:first-of-type > div:nth-of-type(2) > span > button > a')\n"
      ]
    },
    {
      "cell_type": "code",
      "execution_count": 18,
      "metadata": {},
      "outputs": [
        {
          "data": {
            "text/plain": [
              "[]"
            ]
          },
          "execution_count": 18,
          "metadata": {},
          "output_type": "execute_result"
        }
      ],
      "source": [
        "test_1"
      ]
    },
    {
      "cell_type": "code",
      "execution_count": 15,
      "metadata": {},
      "outputs": [
        {
          "data": {
            "text/plain": [
              "[<li class=\"top item55\"><a href=\"http://lawfirm.chanrobles.com/\" target=\"_blank\"><strong>Law Firm</strong></a></li>]"
            ]
          },
          "execution_count": 15,
          "metadata": {},
          "output_type": "execute_result"
        }
      ],
      "source": [
        "test_2"
      ]
    },
    {
      "cell_type": "code",
      "execution_count": 24,
      "metadata": {},
      "outputs": [
        {
          "name": "stdout",
          "output_type": "stream",
          "text": [
            "None\n"
          ]
        }
      ],
      "source": [
        "print(test_3)"
      ]
    }
  ],
  "metadata": {
    "colab": {
      "collapsed_sections": [],
      "provenance": []
    },
    "kernelspec": {
      "display_name": "Python 3.9.12 ('mldev')",
      "language": "python",
      "name": "python3"
    },
    "language_info": {
      "codemirror_mode": {
        "name": "ipython",
        "version": 3
      },
      "file_extension": ".py",
      "mimetype": "text/x-python",
      "name": "python",
      "nbconvert_exporter": "python",
      "pygments_lexer": "ipython3",
      "version": "3.9.12"
    },
    "vscode": {
      "interpreter": {
        "hash": "c6a5db7e3898f1ec047ffa0fd6d9251e59e457cf985271d4a44d24323efb77a1"
      }
    }
  },
  "nbformat": 4,
  "nbformat_minor": 0
}
